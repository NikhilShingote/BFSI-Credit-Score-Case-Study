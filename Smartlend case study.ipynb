{
 "cells": [
  {
   "cell_type": "code",
   "execution_count": 1,
   "id": "640e736f",
   "metadata": {},
   "outputs": [],
   "source": [
    "import pandas as pd,numpy as np\n",
    "import warnings\n",
    "warnings.filterwarnings(\"ignore\")\n",
    "\n",
    "import seaborn as sns\n",
    "import matplotlib.pyplot as plt\n",
    "%matplotlib inline"
   ]
  },
  {
   "cell_type": "code",
   "execution_count": 2,
   "id": "f338a733",
   "metadata": {},
   "outputs": [
    {
     "data": {
      "text/html": [
       "<div>\n",
       "<style scoped>\n",
       "    .dataframe tbody tr th:only-of-type {\n",
       "        vertical-align: middle;\n",
       "    }\n",
       "\n",
       "    .dataframe tbody tr th {\n",
       "        vertical-align: top;\n",
       "    }\n",
       "\n",
       "    .dataframe thead th {\n",
       "        text-align: right;\n",
       "    }\n",
       "</style>\n",
       "<table border=\"1\" class=\"dataframe\">\n",
       "  <thead>\n",
       "    <tr style=\"text-align: right;\">\n",
       "      <th></th>\n",
       "      <th>ID</th>\n",
       "      <th>Customer_ID</th>\n",
       "      <th>Month</th>\n",
       "      <th>Name</th>\n",
       "      <th>Age</th>\n",
       "      <th>SSN</th>\n",
       "      <th>Occupation</th>\n",
       "      <th>Annual_Income</th>\n",
       "      <th>Monthly_Inhand_Salary</th>\n",
       "      <th>Num_Bank_Accounts</th>\n",
       "      <th>...</th>\n",
       "      <th>Credit_Mix</th>\n",
       "      <th>Outstanding_Debt</th>\n",
       "      <th>Credit_Utilization_Ratio</th>\n",
       "      <th>Credit_History_Age</th>\n",
       "      <th>Payment_of_Min_Amount</th>\n",
       "      <th>Total_EMI_per_month</th>\n",
       "      <th>Amount_invested_monthly</th>\n",
       "      <th>Payment_Behaviour</th>\n",
       "      <th>Monthly_Balance</th>\n",
       "      <th>Credit_Score</th>\n",
       "    </tr>\n",
       "  </thead>\n",
       "  <tbody>\n",
       "    <tr>\n",
       "      <th>0</th>\n",
       "      <td>0x1602</td>\n",
       "      <td>CUS_0xd40</td>\n",
       "      <td>January</td>\n",
       "      <td>Aaron Maashoh</td>\n",
       "      <td>23</td>\n",
       "      <td>821-00-0265</td>\n",
       "      <td>Scientist</td>\n",
       "      <td>19114.12</td>\n",
       "      <td>1824.843333</td>\n",
       "      <td>3</td>\n",
       "      <td>...</td>\n",
       "      <td>_</td>\n",
       "      <td>809.98</td>\n",
       "      <td>26.822620</td>\n",
       "      <td>22 Years and 1 Months</td>\n",
       "      <td>No</td>\n",
       "      <td>49.574949</td>\n",
       "      <td>80.41529543900253</td>\n",
       "      <td>High_spent_Small_value_payments</td>\n",
       "      <td>312.49408867943663</td>\n",
       "      <td>Good</td>\n",
       "    </tr>\n",
       "    <tr>\n",
       "      <th>1</th>\n",
       "      <td>0x1603</td>\n",
       "      <td>CUS_0xd40</td>\n",
       "      <td>February</td>\n",
       "      <td>Aaron Maashoh</td>\n",
       "      <td>23</td>\n",
       "      <td>821-00-0265</td>\n",
       "      <td>Scientist</td>\n",
       "      <td>19114.12</td>\n",
       "      <td>NaN</td>\n",
       "      <td>3</td>\n",
       "      <td>...</td>\n",
       "      <td>Good</td>\n",
       "      <td>809.98</td>\n",
       "      <td>31.944960</td>\n",
       "      <td>NaN</td>\n",
       "      <td>No</td>\n",
       "      <td>49.574949</td>\n",
       "      <td>118.28022162236736</td>\n",
       "      <td>Low_spent_Large_value_payments</td>\n",
       "      <td>284.62916249607184</td>\n",
       "      <td>Good</td>\n",
       "    </tr>\n",
       "    <tr>\n",
       "      <th>2</th>\n",
       "      <td>0x1604</td>\n",
       "      <td>CUS_0xd40</td>\n",
       "      <td>March</td>\n",
       "      <td>Aaron Maashoh</td>\n",
       "      <td>-500</td>\n",
       "      <td>821-00-0265</td>\n",
       "      <td>Scientist</td>\n",
       "      <td>19114.12</td>\n",
       "      <td>NaN</td>\n",
       "      <td>3</td>\n",
       "      <td>...</td>\n",
       "      <td>Good</td>\n",
       "      <td>809.98</td>\n",
       "      <td>28.609352</td>\n",
       "      <td>22 Years and 3 Months</td>\n",
       "      <td>No</td>\n",
       "      <td>49.574949</td>\n",
       "      <td>81.699521264648</td>\n",
       "      <td>Low_spent_Medium_value_payments</td>\n",
       "      <td>331.2098628537912</td>\n",
       "      <td>Good</td>\n",
       "    </tr>\n",
       "    <tr>\n",
       "      <th>3</th>\n",
       "      <td>0x1605</td>\n",
       "      <td>CUS_0xd40</td>\n",
       "      <td>April</td>\n",
       "      <td>Aaron Maashoh</td>\n",
       "      <td>23</td>\n",
       "      <td>821-00-0265</td>\n",
       "      <td>Scientist</td>\n",
       "      <td>19114.12</td>\n",
       "      <td>NaN</td>\n",
       "      <td>3</td>\n",
       "      <td>...</td>\n",
       "      <td>Good</td>\n",
       "      <td>809.98</td>\n",
       "      <td>31.377862</td>\n",
       "      <td>22 Years and 4 Months</td>\n",
       "      <td>No</td>\n",
       "      <td>49.574949</td>\n",
       "      <td>199.4580743910713</td>\n",
       "      <td>Low_spent_Small_value_payments</td>\n",
       "      <td>223.45130972736786</td>\n",
       "      <td>Good</td>\n",
       "    </tr>\n",
       "    <tr>\n",
       "      <th>4</th>\n",
       "      <td>0x1606</td>\n",
       "      <td>CUS_0xd40</td>\n",
       "      <td>May</td>\n",
       "      <td>Aaron Maashoh</td>\n",
       "      <td>23</td>\n",
       "      <td>821-00-0265</td>\n",
       "      <td>Scientist</td>\n",
       "      <td>19114.12</td>\n",
       "      <td>1824.843333</td>\n",
       "      <td>3</td>\n",
       "      <td>...</td>\n",
       "      <td>Good</td>\n",
       "      <td>809.98</td>\n",
       "      <td>24.797347</td>\n",
       "      <td>22 Years and 5 Months</td>\n",
       "      <td>No</td>\n",
       "      <td>49.574949</td>\n",
       "      <td>41.420153086217326</td>\n",
       "      <td>High_spent_Medium_value_payments</td>\n",
       "      <td>341.48923103222177</td>\n",
       "      <td>Good</td>\n",
       "    </tr>\n",
       "  </tbody>\n",
       "</table>\n",
       "<p>5 rows × 28 columns</p>\n",
       "</div>"
      ],
      "text/plain": [
       "       ID Customer_ID     Month           Name   Age          SSN Occupation  \\\n",
       "0  0x1602   CUS_0xd40   January  Aaron Maashoh    23  821-00-0265  Scientist   \n",
       "1  0x1603   CUS_0xd40  February  Aaron Maashoh    23  821-00-0265  Scientist   \n",
       "2  0x1604   CUS_0xd40     March  Aaron Maashoh  -500  821-00-0265  Scientist   \n",
       "3  0x1605   CUS_0xd40     April  Aaron Maashoh    23  821-00-0265  Scientist   \n",
       "4  0x1606   CUS_0xd40       May  Aaron Maashoh    23  821-00-0265  Scientist   \n",
       "\n",
       "  Annual_Income  Monthly_Inhand_Salary  Num_Bank_Accounts  ...  Credit_Mix  \\\n",
       "0      19114.12            1824.843333                  3  ...           _   \n",
       "1      19114.12                    NaN                  3  ...        Good   \n",
       "2      19114.12                    NaN                  3  ...        Good   \n",
       "3      19114.12                    NaN                  3  ...        Good   \n",
       "4      19114.12            1824.843333                  3  ...        Good   \n",
       "\n",
       "   Outstanding_Debt Credit_Utilization_Ratio     Credit_History_Age  \\\n",
       "0            809.98                26.822620  22 Years and 1 Months   \n",
       "1            809.98                31.944960                    NaN   \n",
       "2            809.98                28.609352  22 Years and 3 Months   \n",
       "3            809.98                31.377862  22 Years and 4 Months   \n",
       "4            809.98                24.797347  22 Years and 5 Months   \n",
       "\n",
       "   Payment_of_Min_Amount Total_EMI_per_month Amount_invested_monthly  \\\n",
       "0                     No           49.574949       80.41529543900253   \n",
       "1                     No           49.574949      118.28022162236736   \n",
       "2                     No           49.574949         81.699521264648   \n",
       "3                     No           49.574949       199.4580743910713   \n",
       "4                     No           49.574949      41.420153086217326   \n",
       "\n",
       "                  Payment_Behaviour     Monthly_Balance Credit_Score  \n",
       "0   High_spent_Small_value_payments  312.49408867943663         Good  \n",
       "1    Low_spent_Large_value_payments  284.62916249607184         Good  \n",
       "2   Low_spent_Medium_value_payments   331.2098628537912         Good  \n",
       "3    Low_spent_Small_value_payments  223.45130972736786         Good  \n",
       "4  High_spent_Medium_value_payments  341.48923103222177         Good  \n",
       "\n",
       "[5 rows x 28 columns]"
      ]
     },
     "execution_count": 2,
     "metadata": {},
     "output_type": "execute_result"
    }
   ],
   "source": [
    "sl_data = pd.read_csv(\"train_1.csv\")\n",
    "sl_data.head()"
   ]
  },
  {
   "cell_type": "code",
   "execution_count": 3,
   "id": "7e559be3",
   "metadata": {},
   "outputs": [
    {
     "name": "stdout",
     "output_type": "stream",
     "text": [
      "<class 'pandas.core.frame.DataFrame'>\n",
      "RangeIndex: 100000 entries, 0 to 99999\n",
      "Data columns (total 28 columns):\n",
      " #   Column                    Non-Null Count   Dtype  \n",
      "---  ------                    --------------   -----  \n",
      " 0   ID                        100000 non-null  object \n",
      " 1   Customer_ID               100000 non-null  object \n",
      " 2   Month                     100000 non-null  object \n",
      " 3   Name                      90015 non-null   object \n",
      " 4   Age                       100000 non-null  object \n",
      " 5   SSN                       100000 non-null  object \n",
      " 6   Occupation                100000 non-null  object \n",
      " 7   Annual_Income             100000 non-null  object \n",
      " 8   Monthly_Inhand_Salary     84998 non-null   float64\n",
      " 9   Num_Bank_Accounts         100000 non-null  int64  \n",
      " 10  Num_Credit_Card           100000 non-null  int64  \n",
      " 11  Interest_Rate             100000 non-null  int64  \n",
      " 12  Num_of_Loan               100000 non-null  object \n",
      " 13  Type_of_Loan              88592 non-null   object \n",
      " 14  Delay_from_due_date       100000 non-null  int64  \n",
      " 15  Num_of_Delayed_Payment    92998 non-null   object \n",
      " 16  Changed_Credit_Limit      100000 non-null  object \n",
      " 17  Num_Credit_Inquiries      98035 non-null   float64\n",
      " 18  Credit_Mix                100000 non-null  object \n",
      " 19  Outstanding_Debt          100000 non-null  object \n",
      " 20  Credit_Utilization_Ratio  100000 non-null  float64\n",
      " 21  Credit_History_Age        90970 non-null   object \n",
      " 22  Payment_of_Min_Amount     100000 non-null  object \n",
      " 23  Total_EMI_per_month       100000 non-null  float64\n",
      " 24  Amount_invested_monthly   95521 non-null   object \n",
      " 25  Payment_Behaviour         100000 non-null  object \n",
      " 26  Monthly_Balance           98800 non-null   object \n",
      " 27  Credit_Score              100000 non-null  object \n",
      "dtypes: float64(4), int64(4), object(20)\n",
      "memory usage: 21.4+ MB\n"
     ]
    }
   ],
   "source": [
    "sl_data.info()"
   ]
  },
  {
   "cell_type": "code",
   "execution_count": 4,
   "id": "6a334f6f",
   "metadata": {},
   "outputs": [
    {
     "data": {
      "text/html": [
       "<div>\n",
       "<style scoped>\n",
       "    .dataframe tbody tr th:only-of-type {\n",
       "        vertical-align: middle;\n",
       "    }\n",
       "\n",
       "    .dataframe tbody tr th {\n",
       "        vertical-align: top;\n",
       "    }\n",
       "\n",
       "    .dataframe thead th {\n",
       "        text-align: right;\n",
       "    }\n",
       "</style>\n",
       "<table border=\"1\" class=\"dataframe\">\n",
       "  <thead>\n",
       "    <tr style=\"text-align: right;\">\n",
       "      <th></th>\n",
       "      <th>Monthly_Inhand_Salary</th>\n",
       "      <th>Num_Bank_Accounts</th>\n",
       "      <th>Num_Credit_Card</th>\n",
       "      <th>Interest_Rate</th>\n",
       "      <th>Delay_from_due_date</th>\n",
       "      <th>Num_Credit_Inquiries</th>\n",
       "      <th>Credit_Utilization_Ratio</th>\n",
       "      <th>Total_EMI_per_month</th>\n",
       "    </tr>\n",
       "  </thead>\n",
       "  <tbody>\n",
       "    <tr>\n",
       "      <th>count</th>\n",
       "      <td>84998.000000</td>\n",
       "      <td>100000.000000</td>\n",
       "      <td>100000.00000</td>\n",
       "      <td>100000.000000</td>\n",
       "      <td>100000.000000</td>\n",
       "      <td>98035.000000</td>\n",
       "      <td>100000.000000</td>\n",
       "      <td>100000.000000</td>\n",
       "    </tr>\n",
       "    <tr>\n",
       "      <th>mean</th>\n",
       "      <td>4194.170850</td>\n",
       "      <td>17.091280</td>\n",
       "      <td>22.47443</td>\n",
       "      <td>72.466040</td>\n",
       "      <td>21.068780</td>\n",
       "      <td>27.754251</td>\n",
       "      <td>32.285173</td>\n",
       "      <td>1403.118217</td>\n",
       "    </tr>\n",
       "    <tr>\n",
       "      <th>std</th>\n",
       "      <td>3183.686167</td>\n",
       "      <td>117.404834</td>\n",
       "      <td>129.05741</td>\n",
       "      <td>466.422621</td>\n",
       "      <td>14.860104</td>\n",
       "      <td>193.177339</td>\n",
       "      <td>5.116875</td>\n",
       "      <td>8306.041270</td>\n",
       "    </tr>\n",
       "    <tr>\n",
       "      <th>min</th>\n",
       "      <td>303.645417</td>\n",
       "      <td>-1.000000</td>\n",
       "      <td>0.00000</td>\n",
       "      <td>1.000000</td>\n",
       "      <td>-5.000000</td>\n",
       "      <td>0.000000</td>\n",
       "      <td>20.000000</td>\n",
       "      <td>0.000000</td>\n",
       "    </tr>\n",
       "    <tr>\n",
       "      <th>25%</th>\n",
       "      <td>1625.568229</td>\n",
       "      <td>3.000000</td>\n",
       "      <td>4.00000</td>\n",
       "      <td>8.000000</td>\n",
       "      <td>10.000000</td>\n",
       "      <td>3.000000</td>\n",
       "      <td>28.052567</td>\n",
       "      <td>30.306660</td>\n",
       "    </tr>\n",
       "    <tr>\n",
       "      <th>50%</th>\n",
       "      <td>3093.745000</td>\n",
       "      <td>6.000000</td>\n",
       "      <td>5.00000</td>\n",
       "      <td>13.000000</td>\n",
       "      <td>18.000000</td>\n",
       "      <td>6.000000</td>\n",
       "      <td>32.305784</td>\n",
       "      <td>69.249473</td>\n",
       "    </tr>\n",
       "    <tr>\n",
       "      <th>75%</th>\n",
       "      <td>5957.448333</td>\n",
       "      <td>7.000000</td>\n",
       "      <td>7.00000</td>\n",
       "      <td>20.000000</td>\n",
       "      <td>28.000000</td>\n",
       "      <td>9.000000</td>\n",
       "      <td>36.496663</td>\n",
       "      <td>161.224249</td>\n",
       "    </tr>\n",
       "    <tr>\n",
       "      <th>max</th>\n",
       "      <td>15204.633333</td>\n",
       "      <td>1798.000000</td>\n",
       "      <td>1499.00000</td>\n",
       "      <td>5797.000000</td>\n",
       "      <td>67.000000</td>\n",
       "      <td>2597.000000</td>\n",
       "      <td>50.000000</td>\n",
       "      <td>82331.000000</td>\n",
       "    </tr>\n",
       "  </tbody>\n",
       "</table>\n",
       "</div>"
      ],
      "text/plain": [
       "       Monthly_Inhand_Salary  Num_Bank_Accounts  Num_Credit_Card  \\\n",
       "count           84998.000000      100000.000000     100000.00000   \n",
       "mean             4194.170850          17.091280         22.47443   \n",
       "std              3183.686167         117.404834        129.05741   \n",
       "min               303.645417          -1.000000          0.00000   \n",
       "25%              1625.568229           3.000000          4.00000   \n",
       "50%              3093.745000           6.000000          5.00000   \n",
       "75%              5957.448333           7.000000          7.00000   \n",
       "max             15204.633333        1798.000000       1499.00000   \n",
       "\n",
       "       Interest_Rate  Delay_from_due_date  Num_Credit_Inquiries  \\\n",
       "count  100000.000000        100000.000000          98035.000000   \n",
       "mean       72.466040            21.068780             27.754251   \n",
       "std       466.422621            14.860104            193.177339   \n",
       "min         1.000000            -5.000000              0.000000   \n",
       "25%         8.000000            10.000000              3.000000   \n",
       "50%        13.000000            18.000000              6.000000   \n",
       "75%        20.000000            28.000000              9.000000   \n",
       "max      5797.000000            67.000000           2597.000000   \n",
       "\n",
       "       Credit_Utilization_Ratio  Total_EMI_per_month  \n",
       "count             100000.000000        100000.000000  \n",
       "mean                  32.285173          1403.118217  \n",
       "std                    5.116875          8306.041270  \n",
       "min                   20.000000             0.000000  \n",
       "25%                   28.052567            30.306660  \n",
       "50%                   32.305784            69.249473  \n",
       "75%                   36.496663           161.224249  \n",
       "max                   50.000000         82331.000000  "
      ]
     },
     "execution_count": 4,
     "metadata": {},
     "output_type": "execute_result"
    }
   ],
   "source": [
    "sl_data.describe()"
   ]
  },
  {
   "cell_type": "code",
   "execution_count": 5,
   "id": "6ce2331b",
   "metadata": {},
   "outputs": [
    {
     "data": {
      "text/plain": [
       "(100000, 28)"
      ]
     },
     "execution_count": 5,
     "metadata": {},
     "output_type": "execute_result"
    }
   ],
   "source": [
    "# checking shape of data i.e. rows and columns\n",
    "sl_data.shape"
   ]
  },
  {
   "cell_type": "code",
   "execution_count": 6,
   "id": "cfe1d8ae",
   "metadata": {},
   "outputs": [
    {
     "data": {
      "text/plain": [
       "ID                           0.000\n",
       "Customer_ID                  0.000\n",
       "Month                        0.000\n",
       "Name                         9.985\n",
       "Age                          0.000\n",
       "SSN                          0.000\n",
       "Occupation                   0.000\n",
       "Annual_Income                0.000\n",
       "Monthly_Inhand_Salary       15.002\n",
       "Num_Bank_Accounts            0.000\n",
       "Num_Credit_Card              0.000\n",
       "Interest_Rate                0.000\n",
       "Num_of_Loan                  0.000\n",
       "Type_of_Loan                11.408\n",
       "Delay_from_due_date          0.000\n",
       "Num_of_Delayed_Payment       7.002\n",
       "Changed_Credit_Limit         0.000\n",
       "Num_Credit_Inquiries         1.965\n",
       "Credit_Mix                   0.000\n",
       "Outstanding_Debt             0.000\n",
       "Credit_Utilization_Ratio     0.000\n",
       "Credit_History_Age           9.030\n",
       "Payment_of_Min_Amount        0.000\n",
       "Total_EMI_per_month          0.000\n",
       "Amount_invested_monthly      4.479\n",
       "Payment_Behaviour            0.000\n",
       "Monthly_Balance              1.200\n",
       "Credit_Score                 0.000\n",
       "dtype: float64"
      ]
     },
     "execution_count": 6,
     "metadata": {},
     "output_type": "execute_result"
    }
   ],
   "source": [
    "# checking for null values percentage in each columns\n",
    "sl_data.isnull().sum()/len(sl_data)*100"
   ]
  },
  {
   "cell_type": "markdown",
   "id": "878a6ffc",
   "metadata": {},
   "source": [
    "## Data Visualisation"
   ]
  },
  {
   "cell_type": "code",
   "execution_count": 7,
   "id": "2c73f5db",
   "metadata": {},
   "outputs": [
    {
     "data": {
      "image/png": "[encoded data removed]",
      "text/plain": [
       "<Figure size 800x700 with 2 Axes>"
      ]
     },
     "metadata": {},
     "output_type": "display_data"
    }
   ],
   "source": [
    "plt.figure(figsize=(8,7))\n",
    "sns.heatmap(sl_data.corr(),cmap=\"YlGnBu\", annot=True)\n",
    "plt.show()"
   ]
  },
  {
   "cell_type": "code",
   "execution_count": null,
   "id": "a2a66d42",
   "metadata": {},
   "outputs": [],
   "source": []
  },
  {
   "cell_type": "code",
   "execution_count": 8,
   "id": "96b87390",
   "metadata": {},
   "outputs": [],
   "source": [
    "# Dropping Columns which are of no use to get the credit score.\n",
    "columns = ['ID','Customer_ID','Name','SSN']\n",
    "sl_data.drop(columns,axis=1,inplace=True)"
   ]
  },
  {
   "cell_type": "code",
   "execution_count": 9,
   "id": "497aa29f",
   "metadata": {},
   "outputs": [
    {
     "data": {
      "text/plain": [
       "(100000, 24)"
      ]
     },
     "execution_count": 9,
     "metadata": {},
     "output_type": "execute_result"
    }
   ],
   "source": [
    "sl_data.shape"
   ]
  },
  {
   "cell_type": "markdown",
   "id": "f36d6ac9",
   "metadata": {},
   "source": [
    "### Checking 'Monthly_Inand_Salary' colum for null values and outliers"
   ]
  },
  {
   "cell_type": "code",
   "execution_count": 10,
   "id": "fb033860",
   "metadata": {},
   "outputs": [
    {
     "data": {
      "image/png": "[encoded data removed]",
      "text/plain": [
       "<Figure size 1000x300 with 1 Axes>"
      ]
     },
     "metadata": {},
     "output_type": "display_data"
    }
   ],
   "source": [
    "# Lets check with the monthly inhand salary column with a bar plot\n",
    "plt.figure(figsize=(10,3))\n",
    "sns.boxplot(sl_data['Monthly_Inhand_Salary'])\n",
    "plt.show()"
   ]
  },
  {
   "cell_type": "code",
   "execution_count": 11,
   "id": "3ab535e6",
   "metadata": {},
   "outputs": [
    {
     "data": {
      "text/plain": [
       "count    84998.000000\n",
       "mean      4194.170850\n",
       "std       3183.686167\n",
       "min        303.645417\n",
       "10%       1105.052500\n",
       "25%       1625.568229\n",
       "50%       3093.745000\n",
       "75%       5957.448333\n",
       "95%      10828.226500\n",
       "96%      11184.846667\n",
       "97%      11778.639167\n",
       "98%      12446.546667\n",
       "99%      13814.930000\n",
       "max      15204.633333\n",
       "Name: Monthly_Inhand_Salary, dtype: float64"
      ]
     },
     "execution_count": 11,
     "metadata": {},
     "output_type": "execute_result"
    }
   ],
   "source": [
    "sl_data['Monthly_Inhand_Salary'].describe(percentiles=[0.1,0.25,0.50,0.75,0.95,0.96,0.97,0.98,0.99])"
   ]
  },
  {
   "cell_type": "code",
   "execution_count": 12,
   "id": "76af0a3d",
   "metadata": {},
   "outputs": [],
   "source": [
    "# Creating new column\n",
    "sl_data['MIS_random'] = sl_data['Monthly_Inhand_Salary']"
   ]
  },
  {
   "cell_type": "code",
   "execution_count": 13,
   "id": "73245673",
   "metadata": {},
   "outputs": [],
   "source": [
    "# Since 15% of the values are null so we need to check various imputation techniqoes which will give better results\n",
    "sl_data['MIS_median'] = sl_data['Monthly_Inhand_Salary'].fillna(sl_data['Monthly_Inhand_Salary'].median())\n",
    "sl_data['MIS_mean'] = sl_data['Monthly_Inhand_Salary'].fillna(sl_data['Monthly_Inhand_Salary'].mean())\n",
    "sl_data['MIS_random'][sl_data['MIS_random'].isnull()] = sl_data['Monthly_Inhand_Salary'].dropna().sample(sl_data['MIS_random'].isnull().sum()).values"
   ]
  },
  {
   "cell_type": "code",
   "execution_count": 14,
   "id": "e07226c4",
   "metadata": {},
   "outputs": [
    {
     "data": {
      "text/html": [
       "<div>\n",
       "<style scoped>\n",
       "    .dataframe tbody tr th:only-of-type {\n",
       "        vertical-align: middle;\n",
       "    }\n",
       "\n",
       "    .dataframe tbody tr th {\n",
       "        vertical-align: top;\n",
       "    }\n",
       "\n",
       "    .dataframe thead th {\n",
       "        text-align: right;\n",
       "    }\n",
       "</style>\n",
       "<table border=\"1\" class=\"dataframe\">\n",
       "  <thead>\n",
       "    <tr style=\"text-align: right;\">\n",
       "      <th></th>\n",
       "      <th>Monthly_Inhand_Salary</th>\n",
       "      <th>MIS_median</th>\n",
       "      <th>MIS_mean</th>\n",
       "      <th>MIS_random</th>\n",
       "    </tr>\n",
       "  </thead>\n",
       "  <tbody>\n",
       "    <tr>\n",
       "      <th>0</th>\n",
       "      <td>1824.843333</td>\n",
       "      <td>1824.843333</td>\n",
       "      <td>1824.843333</td>\n",
       "      <td>1824.843333</td>\n",
       "    </tr>\n",
       "    <tr>\n",
       "      <th>1</th>\n",
       "      <td>NaN</td>\n",
       "      <td>3093.745000</td>\n",
       "      <td>4194.170850</td>\n",
       "      <td>3337.044167</td>\n",
       "    </tr>\n",
       "    <tr>\n",
       "      <th>2</th>\n",
       "      <td>NaN</td>\n",
       "      <td>3093.745000</td>\n",
       "      <td>4194.170850</td>\n",
       "      <td>2120.582500</td>\n",
       "    </tr>\n",
       "    <tr>\n",
       "      <th>3</th>\n",
       "      <td>NaN</td>\n",
       "      <td>3093.745000</td>\n",
       "      <td>4194.170850</td>\n",
       "      <td>1391.567500</td>\n",
       "    </tr>\n",
       "    <tr>\n",
       "      <th>4</th>\n",
       "      <td>1824.843333</td>\n",
       "      <td>1824.843333</td>\n",
       "      <td>1824.843333</td>\n",
       "      <td>1824.843333</td>\n",
       "    </tr>\n",
       "    <tr>\n",
       "      <th>...</th>\n",
       "      <td>...</td>\n",
       "      <td>...</td>\n",
       "      <td>...</td>\n",
       "      <td>...</td>\n",
       "    </tr>\n",
       "    <tr>\n",
       "      <th>99995</th>\n",
       "      <td>3359.415833</td>\n",
       "      <td>3359.415833</td>\n",
       "      <td>3359.415833</td>\n",
       "      <td>3359.415833</td>\n",
       "    </tr>\n",
       "    <tr>\n",
       "      <th>99996</th>\n",
       "      <td>3359.415833</td>\n",
       "      <td>3359.415833</td>\n",
       "      <td>3359.415833</td>\n",
       "      <td>3359.415833</td>\n",
       "    </tr>\n",
       "    <tr>\n",
       "      <th>99997</th>\n",
       "      <td>3359.415833</td>\n",
       "      <td>3359.415833</td>\n",
       "      <td>3359.415833</td>\n",
       "      <td>3359.415833</td>\n",
       "    </tr>\n",
       "    <tr>\n",
       "      <th>99998</th>\n",
       "      <td>3359.415833</td>\n",
       "      <td>3359.415833</td>\n",
       "      <td>3359.415833</td>\n",
       "      <td>3359.415833</td>\n",
       "    </tr>\n",
       "    <tr>\n",
       "      <th>99999</th>\n",
       "      <td>3359.415833</td>\n",
       "      <td>3359.415833</td>\n",
       "      <td>3359.415833</td>\n",
       "      <td>3359.415833</td>\n",
       "    </tr>\n",
       "  </tbody>\n",
       "</table>\n",
       "<p>100000 rows × 4 columns</p>\n",
       "</div>"
      ],
      "text/plain": [
       "       Monthly_Inhand_Salary   MIS_median     MIS_mean   MIS_random\n",
       "0                1824.843333  1824.843333  1824.843333  1824.843333\n",
       "1                        NaN  3093.745000  4194.170850  3337.044167\n",
       "2                        NaN  3093.745000  4194.170850  2120.582500\n",
       "3                        NaN  3093.745000  4194.170850  1391.567500\n",
       "4                1824.843333  1824.843333  1824.843333  1824.843333\n",
       "...                      ...          ...          ...          ...\n",
       "99995            3359.415833  3359.415833  3359.415833  3359.415833\n",
       "99996            3359.415833  3359.415833  3359.415833  3359.415833\n",
       "99997            3359.415833  3359.415833  3359.415833  3359.415833\n",
       "99998            3359.415833  3359.415833  3359.415833  3359.415833\n",
       "99999            3359.415833  3359.415833  3359.415833  3359.415833\n",
       "\n",
       "[100000 rows x 4 columns]"
      ]
     },
     "execution_count": 14,
     "metadata": {},
     "output_type": "execute_result"
    }
   ],
   "source": [
    "sl_data[['Monthly_Inhand_Salary','MIS_median','MIS_mean','MIS_random']]"
   ]
  },
  {
   "cell_type": "code",
   "execution_count": 15,
   "id": "d6b837b2",
   "metadata": {},
   "outputs": [
    {
     "data": {
      "image/png": "[encoded data removed]",
      "text/plain": [
       "<Figure size 640x480 with 1 Axes>"
      ]
     },
     "metadata": {},
     "output_type": "display_data"
    }
   ],
   "source": [
    "# Lets check the distribution plot\n",
    "sns.distplot(sl_data['MIS_median'],label = 'Median',hist = False)\n",
    "sns.distplot(sl_data['MIS_mean'],label = 'Mean',hist = False)\n",
    "sns.distplot(sl_data['MIS_random'],label = 'Random',hist = False)\n",
    "sns.distplot(sl_data['Monthly_Inhand_Salary'],label = 'Original',hist = False)\n",
    "plt.legend()\n",
    "plt.show()"
   ]
  },
  {
   "cell_type": "code",
   "execution_count": 16,
   "id": "34f2331c",
   "metadata": {},
   "outputs": [
    {
     "data": {
      "image/png": "[encoded data removed]",
      "text/plain": [
       "<Figure size 1000x500 with 1 Axes>"
      ]
     },
     "metadata": {},
     "output_type": "display_data"
    }
   ],
   "source": [
    "# Lets check with the monthly inhand salary column with a boxplot\n",
    "plt.figure(figsize=(10,5))\n",
    "sl_data[['Monthly_Inhand_Salary','MIS_median','MIS_mean','MIS_random']].boxplot()\n",
    "plt.show()"
   ]
  },
  {
   "cell_type": "markdown",
   "id": "a595d4de",
   "metadata": {},
   "source": [
    "### We can clearly see from Distribution plot and Box plot that random imputation is the best impuataion as it did not distort the distribution and the outliers so we will impute the column with Random imputation."
   ]
  },
  {
   "cell_type": "code",
   "execution_count": 17,
   "id": "dddf0ca9",
   "metadata": {},
   "outputs": [],
   "source": [
    "sl_data['Monthly_Inhand_Salary'] = sl_data['MIS_random']\n",
    "sl_data.drop(['MIS_median','MIS_mean','MIS_random'],axis=1,inplace=True)"
   ]
  },
  {
   "cell_type": "code",
   "execution_count": 18,
   "id": "9039013a",
   "metadata": {},
   "outputs": [
    {
     "data": {
      "text/plain": [
       "0"
      ]
     },
     "execution_count": 18,
     "metadata": {},
     "output_type": "execute_result"
    }
   ],
   "source": [
    "# Checking for null values\n",
    "sl_data['Monthly_Inhand_Salary'].isnull().sum()"
   ]
  },
  {
   "cell_type": "code",
   "execution_count": 19,
   "id": "cb393aa6",
   "metadata": {},
   "outputs": [
    {
     "data": {
      "image/png": "[encoded data removed]",
      "text/plain": [
       "<Figure size 1000x200 with 1 Axes>"
      ]
     },
     "metadata": {},
     "output_type": "display_data"
    }
   ],
   "source": [
    "# Checking for outliers again\n",
    "plt.figure(figsize=(10,2))\n",
    "sns.boxplot(sl_data['Monthly_Inhand_Salary'])\n",
    "plt.show()"
   ]
  },
  {
   "cell_type": "code",
   "execution_count": 20,
   "id": "da36896a",
   "metadata": {},
   "outputs": [],
   "source": [
    "# Since After around 98% percentile the outliers are being detected \n",
    "# so we can cap the above outliers above and below 98% and 2% resp.\n",
    "percentile = sl_data['Monthly_Inhand_Salary'].quantile([0.02,0.98]).values\n",
    "percentile\n",
    "Lower_limit = percentile[0]\n",
    "Upper_limit = percentile[1]"
   ]
  },
  {
   "cell_type": "code",
   "execution_count": 21,
   "id": "fe92e9ef",
   "metadata": {},
   "outputs": [
    {
     "name": "stdout",
     "output_type": "stream",
     "text": [
      "620.5013083333333 12446.546666666669\n"
     ]
    }
   ],
   "source": [
    "print(Lower_limit,Upper_limit)"
   ]
  },
  {
   "cell_type": "code",
   "execution_count": 22,
   "id": "389351f2",
   "metadata": {},
   "outputs": [],
   "source": [
    "# Here the outliers are removed by capping technique\n",
    "sl_data['Monthly_Inhand_Salary'] = np.where(sl_data['Monthly_Inhand_Salary'] >= Upper_limit,Upper_limit,\n",
    "                                            np.where(sl_data['Monthly_Inhand_Salary'] <= Lower_limit,Lower_limit,\n",
    "                                            sl_data['Monthly_Inhand_Salary']))"
   ]
  },
  {
   "cell_type": "code",
   "execution_count": 23,
   "id": "b67f6731",
   "metadata": {},
   "outputs": [
    {
     "data": {
      "image/png": "[encoded data removed]",
      "text/plain": [
       "<Figure size 1000x200 with 1 Axes>"
      ]
     },
     "metadata": {},
     "output_type": "display_data"
    }
   ],
   "source": [
    "plt.figure(figsize=(10,2))\n",
    "sns.boxplot(sl_data['Monthly_Inhand_Salary'])\n",
    "plt.show()"
   ]
  },
  {
   "cell_type": "code",
   "execution_count": 24,
   "id": "0d51043c",
   "metadata": {},
   "outputs": [],
   "source": [
    "# Rounding the values upto 2 decimal places\n",
    "sl_data['Monthly_Inhand_Salary']=sl_data['Monthly_Inhand_Salary'].apply(lambda x:round(x,2))"
   ]
  },
  {
   "cell_type": "code",
   "execution_count": 97,
   "id": "118be72e",
   "metadata": {},
   "outputs": [
    {
     "data": {
      "image/png": "[encoded data removed]",
      "text/plain": [
       "<Figure size 640x480 with 1 Axes>"
      ]
     },
     "metadata": {},
     "output_type": "display_data"
    }
   ],
   "source": [
    "sns.boxplot(y='Monthly_Inhand_Salary',x='Credit_Score',data=sl_data)\n",
    "plt.show()"
   ]
  },
  {
   "cell_type": "markdown",
   "id": "c15c3acc",
   "metadata": {},
   "source": [
    "- People having higher salary have probably good credit score.\n",
    "- Concentrate more on people having less salary so there is chance of increasing their credit score."
   ]
  },
  {
   "cell_type": "markdown",
   "id": "c2f2b3ba",
   "metadata": {},
   "source": [
    "### Checking for 'Type_of_Loan' column"
   ]
  },
  {
   "cell_type": "code",
   "execution_count": 25,
   "id": "d0b96d3a",
   "metadata": {},
   "outputs": [],
   "source": [
    "# Since the Missing data is around 11% which is around 11408 Also column is not useful in influencing the credit score so we will drop it.\n",
    "sl_data.drop('Type_of_Loan',axis=1,inplace=True)"
   ]
  },
  {
   "cell_type": "markdown",
   "id": "7eca678c",
   "metadata": {},
   "source": [
    "### Checking for 'Num_of_Delayed_Payment' column"
   ]
  },
  {
   "cell_type": "code",
   "execution_count": 26,
   "id": "df5d4810",
   "metadata": {},
   "outputs": [],
   "source": [
    "# Since the column 'Num_of_Delayed_Payment' is of no use to us so we will drop it.\n",
    "sl_data.drop('Num_of_Delayed_Payment',axis=1,inplace=True)"
   ]
  },
  {
   "cell_type": "markdown",
   "id": "c826fc13",
   "metadata": {},
   "source": [
    "- To display all the columns and rows\n",
    "- pd.set_option(\"display.max_rows\", None)\n",
    "- pd.set_option(\"display.max_columns\", None)\n",
    "- pd.reset_option(“max_columns”)\n",
    "- pd.reset_option(“max_columns”)"
   ]
  },
  {
   "cell_type": "markdown",
   "id": "37ae26e2",
   "metadata": {},
   "source": [
    "### Checking for 'Num_Credit_Inquiries' column"
   ]
  },
  {
   "cell_type": "code",
   "execution_count": 27,
   "id": "3cf04b42",
   "metadata": {},
   "outputs": [
    {
     "name": "stdout",
     "output_type": "stream",
     "text": [
      "<class 'pandas.core.series.Series'>\n",
      "RangeIndex: 100000 entries, 0 to 99999\n",
      "Series name: Num_Credit_Inquiries\n",
      "Non-Null Count  Dtype  \n",
      "--------------  -----  \n",
      "98035 non-null  float64\n",
      "dtypes: float64(1)\n",
      "memory usage: 781.4 KB\n"
     ]
    }
   ],
   "source": [
    "sl_data['Num_Credit_Inquiries'].info()"
   ]
  },
  {
   "cell_type": "code",
   "execution_count": 28,
   "id": "638e6510",
   "metadata": {},
   "outputs": [],
   "source": [
    "# As this column shows number of enquiries done which is of no use to us so drop this feature.\n",
    "sl_data.drop('Num_Credit_Inquiries',axis=1,inplace=True)"
   ]
  },
  {
   "cell_type": "markdown",
   "id": "1a592e30",
   "metadata": {},
   "source": [
    "### Checking for 'Amount_invested_monthly' column"
   ]
  },
  {
   "cell_type": "code",
   "execution_count": 29,
   "id": "4d2afc0e",
   "metadata": {},
   "outputs": [
    {
     "data": {
      "text/plain": [
       "__10000__             4305\n",
       "0.0                    169\n",
       "80.41529543900253        1\n",
       "36.66235139442514        1\n",
       "89.7384893604547         1\n",
       "                      ... \n",
       "36.541908593249026       1\n",
       "93.45116318631192        1\n",
       "140.80972223052834       1\n",
       "38.73937670100975        1\n",
       "167.1638651610451        1\n",
       "Name: Amount_invested_monthly, Length: 91049, dtype: int64"
      ]
     },
     "execution_count": 29,
     "metadata": {},
     "output_type": "execute_result"
    }
   ],
   "source": [
    "sl_data['Amount_invested_monthly'].value_counts()"
   ]
  },
  {
   "cell_type": "code",
   "execution_count": 30,
   "id": "4bf75b70",
   "metadata": {},
   "outputs": [],
   "source": [
    "# Since the column is object datatype and there seem to be \"_\" value which needs to be removed and convert it into numeric type."
   ]
  },
  {
   "cell_type": "code",
   "execution_count": 31,
   "id": "61ba31b0",
   "metadata": {},
   "outputs": [],
   "source": [
    "sl_data['Amount_invested_monthly'] = sl_data['Amount_invested_monthly'].str.replace(\"_\",\"\")"
   ]
  },
  {
   "cell_type": "code",
   "execution_count": 32,
   "id": "3b218b45",
   "metadata": {},
   "outputs": [
    {
     "data": {
      "text/plain": [
       "count     95521\n",
       "unique    91049\n",
       "top       10000\n",
       "freq       4305\n",
       "Name: Amount_invested_monthly, dtype: object"
      ]
     },
     "execution_count": 32,
     "metadata": {},
     "output_type": "execute_result"
    }
   ],
   "source": [
    "sl_data['Amount_invested_monthly'].describe()"
   ]
  },
  {
   "cell_type": "code",
   "execution_count": 33,
   "id": "a16404a0",
   "metadata": {},
   "outputs": [
    {
     "name": "stdout",
     "output_type": "stream",
     "text": [
      "<class 'pandas.core.series.Series'>\n",
      "RangeIndex: 100000 entries, 0 to 99999\n",
      "Series name: Amount_invested_monthly\n",
      "Non-Null Count  Dtype  \n",
      "--------------  -----  \n",
      "95521 non-null  float64\n",
      "dtypes: float64(1)\n",
      "memory usage: 781.4 KB\n"
     ]
    }
   ],
   "source": [
    "# Convert the data type to numeric\n",
    "sl_data['Amount_invested_monthly'] = pd.to_numeric(sl_data['Amount_invested_monthly'])\n",
    "sl_data['Amount_invested_monthly'].info()"
   ]
  },
  {
   "cell_type": "code",
   "execution_count": 34,
   "id": "5e590196",
   "metadata": {},
   "outputs": [
    {
     "data": {
      "image/png": "[encoded data removed]",
      "text/plain": [
       "<Figure size 1000x200 with 1 Axes>"
      ]
     },
     "metadata": {},
     "output_type": "display_data"
    }
   ],
   "source": [
    "# lets check for outliers and other info so we can comeup with imputing techniques\n",
    "plt.figure(figsize=(10,2))\n",
    "sns.boxplot(sl_data['Amount_invested_monthly'])\n",
    "plt.show()"
   ]
  },
  {
   "cell_type": "markdown",
   "id": "f02e2a4c",
   "metadata": {},
   "source": [
    "### Lets check which imputing technique will be good for out column"
   ]
  },
  {
   "cell_type": "code",
   "execution_count": 35,
   "id": "b93b4790",
   "metadata": {},
   "outputs": [],
   "source": [
    "# Creating new column\n",
    "sl_data['AIM_random'] = sl_data['Amount_invested_monthly']\n",
    "# we need to check various imputation techniqoes which will give better results\n",
    "sl_data['AIM_median'] = sl_data['Amount_invested_monthly'].fillna(sl_data['Amount_invested_monthly'].median())\n",
    "sl_data['AIM_mean'] = sl_data['Amount_invested_monthly'].fillna(sl_data['Amount_invested_monthly'].mean())\n",
    "sl_data['AIM_random'][sl_data['AIM_random'].isnull()] = sl_data['Amount_invested_monthly'].dropna().sample(sl_data['AIM_random'].isnull().sum()).values"
   ]
  },
  {
   "cell_type": "code",
   "execution_count": 36,
   "id": "7789df86",
   "metadata": {},
   "outputs": [
    {
     "data": {
      "image/png": "[encoded data removed]",
      "text/plain": [
       "<Figure size 640x480 with 1 Axes>"
      ]
     },
     "metadata": {},
     "output_type": "display_data"
    }
   ],
   "source": [
    "# Lets check the distribution plot\n",
    "sns.distplot(sl_data['AIM_median'],label = 'Median',hist = False)\n",
    "sns.distplot(sl_data['AIM_mean'],label = 'Mean',hist = False)\n",
    "sns.distplot(sl_data['AIM_random'],label = 'Random',hist = False)\n",
    "sns.distplot(sl_data['Amount_invested_monthly'],label = 'Original',hist = False)\n",
    "plt.legend()\n",
    "plt.show()"
   ]
  },
  {
   "cell_type": "code",
   "execution_count": 37,
   "id": "73be8415",
   "metadata": {},
   "outputs": [
    {
     "data": {
      "image/png": "[encoded data removed]",
      "text/plain": [
       "<Figure size 1000x500 with 1 Axes>"
      ]
     },
     "metadata": {},
     "output_type": "display_data"
    }
   ],
   "source": [
    "# Lets check with a boxplot\n",
    "plt.figure(figsize=(10,5))\n",
    "sl_data[['Amount_invested_monthly','AIM_median','AIM_mean','AIM_random']].boxplot()\n",
    "plt.show()"
   ]
  },
  {
   "cell_type": "code",
   "execution_count": 38,
   "id": "e0cc1c97",
   "metadata": {},
   "outputs": [],
   "source": [
    "# Since all are showing mostly similar behaviour we will impute with random values\n",
    "sl_data['Amount_invested_monthly'] = sl_data['AIM_random']\n",
    "sl_data.drop(['AIM_median','AIM_mean','AIM_random'],axis=1,inplace=True)"
   ]
  },
  {
   "cell_type": "code",
   "execution_count": 39,
   "id": "d3b75903",
   "metadata": {},
   "outputs": [
    {
     "data": {
      "text/plain": [
       "0"
      ]
     },
     "execution_count": 39,
     "metadata": {},
     "output_type": "execute_result"
    }
   ],
   "source": [
    "# Checking for null values\n",
    "sl_data['Amount_invested_monthly'].isnull().sum()"
   ]
  },
  {
   "cell_type": "code",
   "execution_count": 40,
   "id": "7c3b6733",
   "metadata": {},
   "outputs": [
    {
     "data": {
      "image/png": "[encoded data removed]",
      "text/plain": [
       "<Figure size 1000x200 with 1 Axes>"
      ]
     },
     "metadata": {},
     "output_type": "display_data"
    }
   ],
   "source": [
    "plt.figure(figsize=(10,2))\n",
    "sns.boxplot(sl_data['Amount_invested_monthly'])\n",
    "plt.show()"
   ]
  },
  {
   "cell_type": "code",
   "execution_count": 41,
   "id": "d12ab4ad",
   "metadata": {},
   "outputs": [
    {
     "data": {
      "text/plain": [
       "count    100000.000000\n",
       "mean        638.137952\n",
       "std        2044.417516\n",
       "min           0.000000\n",
       "10%          43.896622\n",
       "25%          74.580377\n",
       "50%         135.966630\n",
       "75%         265.863192\n",
       "80%         324.158343\n",
       "85%         414.129264\n",
       "90%         578.349497\n",
       "95%        1157.183563\n",
       "96%       10000.000000\n",
       "97%       10000.000000\n",
       "98%       10000.000000\n",
       "99%       10000.000000\n",
       "max       10000.000000\n",
       "Name: Amount_invested_monthly, dtype: float64"
      ]
     },
     "execution_count": 41,
     "metadata": {},
     "output_type": "execute_result"
    }
   ],
   "source": [
    "# checking where we can cap the values\n",
    "sl_data['Amount_invested_monthly'].describe(percentiles=[0.1,0.25,0.50,0.75,0.80,0.85,0.90,0.95,0.96,0.97,0.98,0.99])"
   ]
  },
  {
   "cell_type": "code",
   "execution_count": 42,
   "id": "7d09d426",
   "metadata": {},
   "outputs": [
    {
     "name": "stdout",
     "output_type": "stream",
     "text": [
      "45.99915915020868 536.9453356835962\n"
     ]
    }
   ],
   "source": [
    "# Since after 90 percentile the data is stationary so we will cap the above values near 90th perecentile\n",
    "percentile_1 = sl_data['Amount_invested_monthly'].quantile([0.11,0.89]).values\n",
    "percentile\n",
    "Lower_limit_1 = percentile_1[0]\n",
    "Upper_limit_1 = percentile_1[1]\n",
    "print(Lower_limit_1,Upper_limit_1)"
   ]
  },
  {
   "cell_type": "code",
   "execution_count": 43,
   "id": "6966d03e",
   "metadata": {},
   "outputs": [],
   "source": [
    "# Here the outliers are removed by capping technique\n",
    "sl_data['Amount_invested_monthly'] = np.where(sl_data['Amount_invested_monthly'] >= Upper_limit_1,Upper_limit_1,\n",
    "                                            np.where(sl_data['Amount_invested_monthly'] <= Lower_limit_1,Lower_limit_1,\n",
    "                                            sl_data['Amount_invested_monthly']))"
   ]
  },
  {
   "cell_type": "code",
   "execution_count": 44,
   "id": "2479c7ee",
   "metadata": {},
   "outputs": [
    {
     "data": {
      "image/png": "[encoded data removed]",
      "text/plain": [
       "<Figure size 1000x200 with 1 Axes>"
      ]
     },
     "metadata": {},
     "output_type": "display_data"
    }
   ],
   "source": [
    "# Checking for outliers again\n",
    "plt.figure(figsize=(10,2))\n",
    "sns.boxplot(sl_data['Amount_invested_monthly'])\n",
    "plt.show()"
   ]
  },
  {
   "cell_type": "code",
   "execution_count": 98,
   "id": "5f19cdc9",
   "metadata": {},
   "outputs": [
    {
     "data": {
      "image/png": "[encoded data removed]",
      "text/plain": [
       "<Figure size 640x480 with 1 Axes>"
      ]
     },
     "metadata": {},
     "output_type": "display_data"
    }
   ],
   "source": [
    "sns.boxplot(y='Amount_invested_monthly',x='Credit_Score',data=sl_data)\n",
    "plt.show()"
   ]
  },
  {
   "cell_type": "markdown",
   "id": "ec312d4b",
   "metadata": {},
   "source": [
    "- people investing more have a good credit score as compared to people investing less. so concentrate more on people investing around 150."
   ]
  },
  {
   "cell_type": "markdown",
   "id": "c42cb9c2",
   "metadata": {},
   "source": [
    "### Checking for 'Monthly_Balance' column"
   ]
  },
  {
   "cell_type": "code",
   "execution_count": 45,
   "id": "1b285d14",
   "metadata": {},
   "outputs": [
    {
     "data": {
      "text/plain": [
       "count                                98800\n",
       "unique                               98792\n",
       "top       __-333333333333333333333333333__\n",
       "freq                                     9\n",
       "Name: Monthly_Balance, dtype: object"
      ]
     },
     "execution_count": 45,
     "metadata": {},
     "output_type": "execute_result"
    }
   ],
   "source": [
    "# Now lets check wiht monthly balance\n",
    "# Also the data type is object which should be numeric\n",
    "sl_data['Monthly_Balance'].describe()"
   ]
  },
  {
   "cell_type": "code",
   "execution_count": 46,
   "id": "1689103e",
   "metadata": {},
   "outputs": [],
   "source": [
    "# Lets check the rows having the value\n",
    "sl_data['Monthly_Balance'] = sl_data['Monthly_Balance'].str.replace(\"_\",\"\")"
   ]
  },
  {
   "cell_type": "code",
   "execution_count": 47,
   "id": "382260c7",
   "metadata": {},
   "outputs": [
    {
     "data": {
      "text/plain": [
       "count                            97132\n",
       "unique                           97124\n",
       "top       -333333333333333333333333333\n",
       "freq                                 9\n",
       "Name: Monthly_Balance, dtype: object"
      ]
     },
     "execution_count": 47,
     "metadata": {},
     "output_type": "execute_result"
    }
   ],
   "source": [
    "sl_data['Monthly_Balance'].describe()"
   ]
  },
  {
   "cell_type": "code",
   "execution_count": 48,
   "id": "80d2985e",
   "metadata": {},
   "outputs": [],
   "source": [
    "sl_data = sl_data.astype({'Monthly_Balance':'float64'})"
   ]
  },
  {
   "cell_type": "code",
   "execution_count": 49,
   "id": "4621cdda",
   "metadata": {},
   "outputs": [
    {
     "data": {
      "text/plain": [
       "count    9.713200e+04\n",
       "mean    -3.088580e+22\n",
       "std      3.208492e+24\n",
       "min     -3.333333e+26\n",
       "25%      2.699858e+02\n",
       "50%      3.364493e+02\n",
       "75%      4.696405e+02\n",
       "max      1.602041e+03\n",
       "Name: Monthly_Balance, dtype: float64"
      ]
     },
     "execution_count": 49,
     "metadata": {},
     "output_type": "execute_result"
    }
   ],
   "source": [
    "sl_data['Monthly_Balance'].describe()"
   ]
  },
  {
   "cell_type": "code",
   "execution_count": 50,
   "id": "d8a91366",
   "metadata": {},
   "outputs": [
    {
     "data": {
      "image/png": "[encoded data removed]",
      "text/plain": [
       "<Figure size 1000x200 with 1 Axes>"
      ]
     },
     "metadata": {},
     "output_type": "display_data"
    }
   ],
   "source": [
    "plt.figure(figsize=(10,2))\n",
    "sns.boxplot(sl_data['Monthly_Balance'])\n",
    "plt.show()"
   ]
  },
  {
   "cell_type": "code",
   "execution_count": 51,
   "id": "b7070a6d",
   "metadata": {},
   "outputs": [],
   "source": [
    "# Dropping rows with values higher negative value which are not possible in a data\n",
    "sl_data = sl_data.loc[~(sl_data['Monthly_Balance'] <= 0)]"
   ]
  },
  {
   "cell_type": "code",
   "execution_count": 52,
   "id": "df07a1e6",
   "metadata": {},
   "outputs": [
    {
     "data": {
      "image/png": "[encoded data removed]",
      "text/plain": [
       "<Figure size 1000x200 with 1 Axes>"
      ]
     },
     "metadata": {},
     "output_type": "display_data"
    }
   ],
   "source": [
    "# checking for outliers again\n",
    "plt.figure(figsize=(10,2))\n",
    "sns.boxplot(sl_data['Monthly_Balance'])\n",
    "plt.show()"
   ]
  },
  {
   "cell_type": "code",
   "execution_count": 53,
   "id": "35f662f4",
   "metadata": {},
   "outputs": [
    {
     "data": {
      "text/plain": [
       "count    97123.000000\n",
       "mean       402.164483\n",
       "std        213.644217\n",
       "min          0.007760\n",
       "10%        218.382690\n",
       "25%        269.998334\n",
       "50%        336.472111\n",
       "75%        469.652004\n",
       "80%        523.201305\n",
       "85%        601.708294\n",
       "90%        707.131387\n",
       "95%        862.405481\n",
       "96%        908.314561\n",
       "97%        962.741866\n",
       "98%       1031.337029\n",
       "99%       1136.789455\n",
       "max       1602.040519\n",
       "Name: Monthly_Balance, dtype: float64"
      ]
     },
     "execution_count": 53,
     "metadata": {},
     "output_type": "execute_result"
    }
   ],
   "source": [
    "# checking where we can cap the values\n",
    "sl_data['Monthly_Balance'].describe(percentiles=[0.1,0.25,0.50,0.75,0.80,0.85,0.90,0.95,0.96,0.97,0.98,0.99])"
   ]
  },
  {
   "cell_type": "code",
   "execution_count": 54,
   "id": "74842641",
   "metadata": {},
   "outputs": [
    {
     "name": "stdout",
     "output_type": "stream",
     "text": [
      "205.00753396467937 760.7712395733947\n"
     ]
    }
   ],
   "source": [
    "percentile_2 = sl_data['Monthly_Balance'].quantile([0.08,0.92]).values\n",
    "percentile\n",
    "Lower_limit_2 = percentile_2[0]\n",
    "Upper_limit_2 = percentile_2[1]\n",
    "print(Lower_limit_2,Upper_limit_2)"
   ]
  },
  {
   "cell_type": "code",
   "execution_count": 55,
   "id": "069c423e",
   "metadata": {},
   "outputs": [],
   "source": [
    "# Here the outliers are removed by capping technique\n",
    "sl_data['Monthly_Balance'] = np.where(sl_data['Monthly_Balance'] >= Upper_limit_2,Upper_limit_2,\n",
    "                                            np.where(sl_data['Monthly_Balance'] <= Lower_limit_2,Lower_limit_2,\n",
    "                                            sl_data['Monthly_Balance']))"
   ]
  },
  {
   "cell_type": "code",
   "execution_count": 56,
   "id": "816af72c",
   "metadata": {},
   "outputs": [
    {
     "data": {
      "image/png": "[encoded data removed]",
      "text/plain": [
       "<Figure size 1000x200 with 1 Axes>"
      ]
     },
     "metadata": {},
     "output_type": "display_data"
    }
   ],
   "source": [
    "plt.figure(figsize=(10,2))\n",
    "sns.boxplot(sl_data['Monthly_Balance'])\n",
    "plt.show()"
   ]
  },
  {
   "cell_type": "code",
   "execution_count": 57,
   "id": "a818d5e8",
   "metadata": {},
   "outputs": [
    {
     "data": {
      "text/plain": [
       "2868"
      ]
     },
     "execution_count": 57,
     "metadata": {},
     "output_type": "execute_result"
    }
   ],
   "source": [
    "sl_data['Monthly_Balance'].isnull().sum()"
   ]
  },
  {
   "cell_type": "markdown",
   "id": "22de7d06",
   "metadata": {},
   "source": [
    "### Lets check which imputing technique will be good for out column"
   ]
  },
  {
   "cell_type": "code",
   "execution_count": 58,
   "id": "b754c72b",
   "metadata": {},
   "outputs": [],
   "source": [
    "# Creating new column\n",
    "sl_data['MB_random'] = sl_data['Monthly_Balance']\n",
    "# we need to check various imputation techniqoes which will give better results\n",
    "sl_data['MB_median'] = sl_data['Monthly_Balance'].fillna(sl_data['Monthly_Balance'].median())\n",
    "sl_data['MB_mean'] = sl_data['Monthly_Balance'].fillna(sl_data['Monthly_Balance'].mean())\n",
    "sl_data['MB_random'][sl_data['MB_random'].isnull()] = sl_data['Monthly_Balance'].dropna().sample(sl_data['MB_random'].isnull().sum()).values"
   ]
  },
  {
   "cell_type": "code",
   "execution_count": 59,
   "id": "27d79a35",
   "metadata": {},
   "outputs": [
    {
     "data": {
      "image/png": "[encoded data removed]",
      "text/plain": [
       "<Figure size 640x480 with 1 Axes>"
      ]
     },
     "metadata": {},
     "output_type": "display_data"
    }
   ],
   "source": [
    "# Lets check the distribution plot\n",
    "sns.distplot(sl_data['MB_median'],label = 'Median',hist = False)\n",
    "sns.distplot(sl_data['MB_mean'],label = 'Mean',hist = False)\n",
    "sns.distplot(sl_data['MB_random'],label = 'Random',hist = False)\n",
    "sns.distplot(sl_data['Monthly_Balance'],label = 'Original',hist = False)\n",
    "plt.legend()\n",
    "plt.show()"
   ]
  },
  {
   "cell_type": "code",
   "execution_count": 60,
   "id": "0a788aff",
   "metadata": {},
   "outputs": [
    {
     "data": {
      "image/png": "[encoded data removed]",
      "text/plain": [
       "<Figure size 1000x200 with 1 Axes>"
      ]
     },
     "metadata": {},
     "output_type": "display_data"
    }
   ],
   "source": [
    "# Checking for outliers again\n",
    "plt.figure(figsize=(10,2))\n",
    "sns.boxplot(sl_data['Monthly_Balance'])\n",
    "plt.show()"
   ]
  },
  {
   "cell_type": "code",
   "execution_count": 61,
   "id": "3790aa13",
   "metadata": {},
   "outputs": [],
   "source": [
    "# Since all are showing mostly similar behaviour we will impute with random values\n",
    "sl_data['Monthly_Balance'] = sl_data['MB_random']\n",
    "sl_data.drop(['MB_median','MB_mean','MB_random'],axis=1,inplace=True)"
   ]
  },
  {
   "cell_type": "code",
   "execution_count": 62,
   "id": "e9b5946b",
   "metadata": {},
   "outputs": [],
   "source": [
    "# Rounding the values upto 2 decimal places\n",
    "sl_data['Monthly_Balance']=sl_data['Monthly_Balance'].apply(lambda x:round(x,2))"
   ]
  },
  {
   "cell_type": "code",
   "execution_count": 100,
   "id": "f723abc3",
   "metadata": {},
   "outputs": [
    {
     "data": {
      "image/png": "[encoded data removed]",
      "text/plain": [
       "<Figure size 640x480 with 1 Axes>"
      ]
     },
     "metadata": {},
     "output_type": "display_data"
    }
   ],
   "source": [
    "sns.boxplot(y='Monthly_Balance',x='Credit_Score',data=sl_data)\n",
    "plt.show()"
   ]
  },
  {
   "cell_type": "markdown",
   "id": "fc0effda",
   "metadata": {},
   "source": [
    "- People having higher mnthly balance usually have good credit score and also lots of people have good score.\n",
    "- People having monthly balance around 300 have poor credit score."
   ]
  },
  {
   "cell_type": "code",
   "execution_count": 63,
   "id": "a2bbaa2b",
   "metadata": {},
   "outputs": [
    {
     "data": {
      "text/plain": [
       "Month                       0.000000\n",
       "Age                         0.000000\n",
       "Occupation                  0.000000\n",
       "Annual_Income               0.000000\n",
       "Monthly_Inhand_Salary       0.000000\n",
       "Num_Bank_Accounts           0.000000\n",
       "Num_Credit_Card             0.000000\n",
       "Interest_Rate               0.000000\n",
       "Num_of_Loan                 0.000000\n",
       "Delay_from_due_date         0.000000\n",
       "Changed_Credit_Limit        0.000000\n",
       "Credit_Mix                  0.000000\n",
       "Outstanding_Debt            0.000000\n",
       "Credit_Utilization_Ratio    0.000000\n",
       "Credit_History_Age          9.029813\n",
       "Payment_of_Min_Amount       0.000000\n",
       "Total_EMI_per_month         0.000000\n",
       "Amount_invested_monthly     0.000000\n",
       "Payment_Behaviour           0.000000\n",
       "Monthly_Balance             0.000000\n",
       "Credit_Score                0.000000\n",
       "dtype: float64"
      ]
     },
     "execution_count": 63,
     "metadata": {},
     "output_type": "execute_result"
    }
   ],
   "source": [
    "# checking for null values percentage in each columns\n",
    "sl_data.isnull().sum()/len(sl_data)*100"
   ]
  },
  {
   "cell_type": "markdown",
   "id": "00489e55",
   "metadata": {},
   "source": [
    "### Lets look at the 'Credit_History_Age' column"
   ]
  },
  {
   "cell_type": "code",
   "execution_count": 64,
   "id": "a01a7a56",
   "metadata": {},
   "outputs": [
    {
     "data": {
      "text/plain": [
       "0         22 Years and 1 Months\n",
       "1                           NaN\n",
       "2         22 Years and 3 Months\n",
       "3         22 Years and 4 Months\n",
       "4         22 Years and 5 Months\n",
       "                  ...          \n",
       "99995     31 Years and 6 Months\n",
       "99996     31 Years and 7 Months\n",
       "99997     31 Years and 8 Months\n",
       "99998     31 Years and 9 Months\n",
       "99999    31 Years and 10 Months\n",
       "Name: Credit_History_Age, Length: 99991, dtype: object"
      ]
     },
     "execution_count": 64,
     "metadata": {},
     "output_type": "execute_result"
    }
   ],
   "source": [
    "sl_data['Credit_History_Age']"
   ]
  },
  {
   "cell_type": "code",
   "execution_count": 65,
   "id": "125d547f",
   "metadata": {},
   "outputs": [],
   "source": [
    "sl_data[['Years','Months']] = sl_data['Credit_History_Age'].str.split(\"and\",expand=True)"
   ]
  },
  {
   "cell_type": "code",
   "execution_count": 66,
   "id": "e171598a",
   "metadata": {},
   "outputs": [
    {
     "data": {
      "text/html": [
       "<div>\n",
       "<style scoped>\n",
       "    .dataframe tbody tr th:only-of-type {\n",
       "        vertical-align: middle;\n",
       "    }\n",
       "\n",
       "    .dataframe tbody tr th {\n",
       "        vertical-align: top;\n",
       "    }\n",
       "\n",
       "    .dataframe thead th {\n",
       "        text-align: right;\n",
       "    }\n",
       "</style>\n",
       "<table border=\"1\" class=\"dataframe\">\n",
       "  <thead>\n",
       "    <tr style=\"text-align: right;\">\n",
       "      <th></th>\n",
       "      <th>Years</th>\n",
       "      <th>Months</th>\n",
       "    </tr>\n",
       "  </thead>\n",
       "  <tbody>\n",
       "    <tr>\n",
       "      <th>0</th>\n",
       "      <td>22 Years</td>\n",
       "      <td>1 Months</td>\n",
       "    </tr>\n",
       "    <tr>\n",
       "      <th>1</th>\n",
       "      <td>NaN</td>\n",
       "      <td>NaN</td>\n",
       "    </tr>\n",
       "    <tr>\n",
       "      <th>2</th>\n",
       "      <td>22 Years</td>\n",
       "      <td>3 Months</td>\n",
       "    </tr>\n",
       "    <tr>\n",
       "      <th>3</th>\n",
       "      <td>22 Years</td>\n",
       "      <td>4 Months</td>\n",
       "    </tr>\n",
       "    <tr>\n",
       "      <th>4</th>\n",
       "      <td>22 Years</td>\n",
       "      <td>5 Months</td>\n",
       "    </tr>\n",
       "    <tr>\n",
       "      <th>...</th>\n",
       "      <td>...</td>\n",
       "      <td>...</td>\n",
       "    </tr>\n",
       "    <tr>\n",
       "      <th>99995</th>\n",
       "      <td>31 Years</td>\n",
       "      <td>6 Months</td>\n",
       "    </tr>\n",
       "    <tr>\n",
       "      <th>99996</th>\n",
       "      <td>31 Years</td>\n",
       "      <td>7 Months</td>\n",
       "    </tr>\n",
       "    <tr>\n",
       "      <th>99997</th>\n",
       "      <td>31 Years</td>\n",
       "      <td>8 Months</td>\n",
       "    </tr>\n",
       "    <tr>\n",
       "      <th>99998</th>\n",
       "      <td>31 Years</td>\n",
       "      <td>9 Months</td>\n",
       "    </tr>\n",
       "    <tr>\n",
       "      <th>99999</th>\n",
       "      <td>31 Years</td>\n",
       "      <td>10 Months</td>\n",
       "    </tr>\n",
       "  </tbody>\n",
       "</table>\n",
       "<p>99991 rows × 2 columns</p>\n",
       "</div>"
      ],
      "text/plain": [
       "           Years      Months\n",
       "0      22 Years     1 Months\n",
       "1            NaN         NaN\n",
       "2      22 Years     3 Months\n",
       "3      22 Years     4 Months\n",
       "4      22 Years     5 Months\n",
       "...          ...         ...\n",
       "99995  31 Years     6 Months\n",
       "99996  31 Years     7 Months\n",
       "99997  31 Years     8 Months\n",
       "99998  31 Years     9 Months\n",
       "99999  31 Years    10 Months\n",
       "\n",
       "[99991 rows x 2 columns]"
      ]
     },
     "execution_count": 66,
     "metadata": {},
     "output_type": "execute_result"
    }
   ],
   "source": [
    "sl_data[['Years','Months']]"
   ]
  },
  {
   "cell_type": "code",
   "execution_count": 67,
   "id": "915612a3",
   "metadata": {},
   "outputs": [],
   "source": [
    "sl_data['Years'] = sl_data['Years'].str.replace(\" Years\",\"\")\n",
    "sl_data['Months'] = sl_data['Months'].str.replace(\" Months\",\"\")"
   ]
  },
  {
   "cell_type": "code",
   "execution_count": 68,
   "id": "abb5b798",
   "metadata": {},
   "outputs": [
    {
     "data": {
      "text/html": [
       "<div>\n",
       "<style scoped>\n",
       "    .dataframe tbody tr th:only-of-type {\n",
       "        vertical-align: middle;\n",
       "    }\n",
       "\n",
       "    .dataframe tbody tr th {\n",
       "        vertical-align: top;\n",
       "    }\n",
       "\n",
       "    .dataframe thead th {\n",
       "        text-align: right;\n",
       "    }\n",
       "</style>\n",
       "<table border=\"1\" class=\"dataframe\">\n",
       "  <thead>\n",
       "    <tr style=\"text-align: right;\">\n",
       "      <th></th>\n",
       "      <th>Years</th>\n",
       "      <th>Months</th>\n",
       "    </tr>\n",
       "  </thead>\n",
       "  <tbody>\n",
       "    <tr>\n",
       "      <th>0</th>\n",
       "      <td>22</td>\n",
       "      <td>1</td>\n",
       "    </tr>\n",
       "    <tr>\n",
       "      <th>1</th>\n",
       "      <td>NaN</td>\n",
       "      <td>NaN</td>\n",
       "    </tr>\n",
       "    <tr>\n",
       "      <th>2</th>\n",
       "      <td>22</td>\n",
       "      <td>3</td>\n",
       "    </tr>\n",
       "    <tr>\n",
       "      <th>3</th>\n",
       "      <td>22</td>\n",
       "      <td>4</td>\n",
       "    </tr>\n",
       "    <tr>\n",
       "      <th>4</th>\n",
       "      <td>22</td>\n",
       "      <td>5</td>\n",
       "    </tr>\n",
       "    <tr>\n",
       "      <th>...</th>\n",
       "      <td>...</td>\n",
       "      <td>...</td>\n",
       "    </tr>\n",
       "    <tr>\n",
       "      <th>99995</th>\n",
       "      <td>31</td>\n",
       "      <td>6</td>\n",
       "    </tr>\n",
       "    <tr>\n",
       "      <th>99996</th>\n",
       "      <td>31</td>\n",
       "      <td>7</td>\n",
       "    </tr>\n",
       "    <tr>\n",
       "      <th>99997</th>\n",
       "      <td>31</td>\n",
       "      <td>8</td>\n",
       "    </tr>\n",
       "    <tr>\n",
       "      <th>99998</th>\n",
       "      <td>31</td>\n",
       "      <td>9</td>\n",
       "    </tr>\n",
       "    <tr>\n",
       "      <th>99999</th>\n",
       "      <td>31</td>\n",
       "      <td>10</td>\n",
       "    </tr>\n",
       "  </tbody>\n",
       "</table>\n",
       "<p>99991 rows × 2 columns</p>\n",
       "</div>"
      ],
      "text/plain": [
       "      Years Months\n",
       "0       22       1\n",
       "1       NaN    NaN\n",
       "2       22       3\n",
       "3       22       4\n",
       "4       22       5\n",
       "...     ...    ...\n",
       "99995   31       6\n",
       "99996   31       7\n",
       "99997   31       8\n",
       "99998   31       9\n",
       "99999   31      10\n",
       "\n",
       "[99991 rows x 2 columns]"
      ]
     },
     "execution_count": 68,
     "metadata": {},
     "output_type": "execute_result"
    }
   ],
   "source": [
    "sl_data[['Years','Months']]"
   ]
  },
  {
   "cell_type": "code",
   "execution_count": 69,
   "id": "5c77f5f5",
   "metadata": {},
   "outputs": [],
   "source": [
    "sl_data = sl_data.astype({'Years':'float32'})\n",
    "sl_data = sl_data.astype({'Months':'float32'})"
   ]
  },
  {
   "cell_type": "code",
   "execution_count": 70,
   "id": "d9891932",
   "metadata": {},
   "outputs": [],
   "source": [
    "sl_data['Years'] = sl_data['Years'] * 12"
   ]
  },
  {
   "cell_type": "code",
   "execution_count": 71,
   "id": "2fc53250",
   "metadata": {},
   "outputs": [],
   "source": [
    "sl_data['Credit_duration'] = sl_data['Years'] + sl_data['Months']"
   ]
  },
  {
   "cell_type": "code",
   "execution_count": 72,
   "id": "446cbe86",
   "metadata": {},
   "outputs": [
    {
     "data": {
      "text/html": [
       "<div>\n",
       "<style scoped>\n",
       "    .dataframe tbody tr th:only-of-type {\n",
       "        vertical-align: middle;\n",
       "    }\n",
       "\n",
       "    .dataframe tbody tr th {\n",
       "        vertical-align: top;\n",
       "    }\n",
       "\n",
       "    .dataframe thead th {\n",
       "        text-align: right;\n",
       "    }\n",
       "</style>\n",
       "<table border=\"1\" class=\"dataframe\">\n",
       "  <thead>\n",
       "    <tr style=\"text-align: right;\">\n",
       "      <th></th>\n",
       "      <th>Credit_duration</th>\n",
       "      <th>Years</th>\n",
       "      <th>Months</th>\n",
       "    </tr>\n",
       "  </thead>\n",
       "  <tbody>\n",
       "    <tr>\n",
       "      <th>0</th>\n",
       "      <td>265.0</td>\n",
       "      <td>264.0</td>\n",
       "      <td>1.0</td>\n",
       "    </tr>\n",
       "    <tr>\n",
       "      <th>1</th>\n",
       "      <td>NaN</td>\n",
       "      <td>NaN</td>\n",
       "      <td>NaN</td>\n",
       "    </tr>\n",
       "    <tr>\n",
       "      <th>2</th>\n",
       "      <td>267.0</td>\n",
       "      <td>264.0</td>\n",
       "      <td>3.0</td>\n",
       "    </tr>\n",
       "    <tr>\n",
       "      <th>3</th>\n",
       "      <td>268.0</td>\n",
       "      <td>264.0</td>\n",
       "      <td>4.0</td>\n",
       "    </tr>\n",
       "    <tr>\n",
       "      <th>4</th>\n",
       "      <td>269.0</td>\n",
       "      <td>264.0</td>\n",
       "      <td>5.0</td>\n",
       "    </tr>\n",
       "    <tr>\n",
       "      <th>...</th>\n",
       "      <td>...</td>\n",
       "      <td>...</td>\n",
       "      <td>...</td>\n",
       "    </tr>\n",
       "    <tr>\n",
       "      <th>99995</th>\n",
       "      <td>378.0</td>\n",
       "      <td>372.0</td>\n",
       "      <td>6.0</td>\n",
       "    </tr>\n",
       "    <tr>\n",
       "      <th>99996</th>\n",
       "      <td>379.0</td>\n",
       "      <td>372.0</td>\n",
       "      <td>7.0</td>\n",
       "    </tr>\n",
       "    <tr>\n",
       "      <th>99997</th>\n",
       "      <td>380.0</td>\n",
       "      <td>372.0</td>\n",
       "      <td>8.0</td>\n",
       "    </tr>\n",
       "    <tr>\n",
       "      <th>99998</th>\n",
       "      <td>381.0</td>\n",
       "      <td>372.0</td>\n",
       "      <td>9.0</td>\n",
       "    </tr>\n",
       "    <tr>\n",
       "      <th>99999</th>\n",
       "      <td>382.0</td>\n",
       "      <td>372.0</td>\n",
       "      <td>10.0</td>\n",
       "    </tr>\n",
       "  </tbody>\n",
       "</table>\n",
       "<p>99991 rows × 3 columns</p>\n",
       "</div>"
      ],
      "text/plain": [
       "       Credit_duration  Years  Months\n",
       "0                265.0  264.0     1.0\n",
       "1                  NaN    NaN     NaN\n",
       "2                267.0  264.0     3.0\n",
       "3                268.0  264.0     4.0\n",
       "4                269.0  264.0     5.0\n",
       "...                ...    ...     ...\n",
       "99995            378.0  372.0     6.0\n",
       "99996            379.0  372.0     7.0\n",
       "99997            380.0  372.0     8.0\n",
       "99998            381.0  372.0     9.0\n",
       "99999            382.0  372.0    10.0\n",
       "\n",
       "[99991 rows x 3 columns]"
      ]
     },
     "execution_count": 72,
     "metadata": {},
     "output_type": "execute_result"
    }
   ],
   "source": [
    "sl_data[['Credit_duration','Years','Months']]"
   ]
  },
  {
   "cell_type": "code",
   "execution_count": 73,
   "id": "5f3c9459",
   "metadata": {},
   "outputs": [],
   "source": [
    "# Dropping 'Credit history age','Years' and 'Months' columns\n",
    "sl_data.drop(['Years','Months','Credit_History_Age'],axis=1,inplace=True)"
   ]
  },
  {
   "cell_type": "code",
   "execution_count": 74,
   "id": "c43b3932",
   "metadata": {},
   "outputs": [
    {
     "data": {
      "image/png": "[encoded data removed]",
      "text/plain": [
       "<Figure size 1000x200 with 1 Axes>"
      ]
     },
     "metadata": {},
     "output_type": "display_data"
    }
   ],
   "source": [
    "#Checking for outliers\n",
    "plt.figure(figsize=(10,2))\n",
    "sns.boxplot(sl_data['Credit_duration'])\n",
    "plt.show()"
   ]
  },
  {
   "cell_type": "code",
   "execution_count": 75,
   "id": "54e9d182",
   "metadata": {},
   "outputs": [],
   "source": [
    "# Creating new column\n",
    "sl_data['CD_random'] = sl_data['Credit_duration']"
   ]
  },
  {
   "cell_type": "code",
   "execution_count": 76,
   "id": "13656660",
   "metadata": {},
   "outputs": [],
   "source": [
    "sl_data['CD_median'] = sl_data['Credit_duration'].fillna(sl_data['Credit_duration'].median())\n",
    "sl_data['CD_mean'] = sl_data['Credit_duration'].fillna(sl_data['Credit_duration'].mean())\n",
    "sl_data['CD_random'][sl_data['CD_random'].isnull()] = sl_data['Credit_duration'].dropna().sample(sl_data['CD_random'].isnull().sum()).values"
   ]
  },
  {
   "cell_type": "code",
   "execution_count": 77,
   "id": "c0703b9b",
   "metadata": {},
   "outputs": [
    {
     "data": {
      "image/png": "[encoded data removed]",
      "text/plain": [
       "<Figure size 640x480 with 1 Axes>"
      ]
     },
     "metadata": {},
     "output_type": "display_data"
    }
   ],
   "source": [
    "# Lets check the distribution plot\n",
    "sns.distplot(sl_data['CD_median'],label = 'Median',hist = False)\n",
    "sns.distplot(sl_data['CD_mean'],label = 'Mean',hist = False)\n",
    "sns.distplot(sl_data['CD_random'],label = 'Random',hist = False)\n",
    "sns.distplot(sl_data['Credit_duration'],label = 'Original',hist = False)\n",
    "plt.legend()\n",
    "plt.show()"
   ]
  },
  {
   "cell_type": "code",
   "execution_count": 78,
   "id": "070f1c00",
   "metadata": {},
   "outputs": [
    {
     "data": {
      "image/png": "[encoded data removed]",
      "text/plain": [
       "<Figure size 1000x500 with 1 Axes>"
      ]
     },
     "metadata": {},
     "output_type": "display_data"
    }
   ],
   "source": [
    "# Lets check with the monthly inhand salary column with a boxplot\n",
    "plt.figure(figsize=(10,5))\n",
    "sl_data[['Credit_duration','CD_median','CD_mean','CD_random']].boxplot()\n",
    "plt.show()"
   ]
  },
  {
   "cell_type": "code",
   "execution_count": 79,
   "id": "af7efb24",
   "metadata": {},
   "outputs": [],
   "source": [
    "sl_data['Credit_duration'] = sl_data['CD_random']\n",
    "sl_data.drop(['CD_median','CD_mean','CD_random'],axis=1,inplace=True)"
   ]
  },
  {
   "cell_type": "code",
   "execution_count": 80,
   "id": "234242ca",
   "metadata": {},
   "outputs": [
    {
     "data": {
      "text/plain": [
       "0"
      ]
     },
     "execution_count": 80,
     "metadata": {},
     "output_type": "execute_result"
    }
   ],
   "source": [
    "# Checking for null values\n",
    "sl_data['Credit_duration'].isnull().sum()"
   ]
  },
  {
   "cell_type": "markdown",
   "id": "c5fbb2f9",
   "metadata": {},
   "source": [
    "### Checking Payments with min amount column"
   ]
  },
  {
   "cell_type": "code",
   "execution_count": 81,
   "id": "43e730ac",
   "metadata": {},
   "outputs": [
    {
     "data": {
      "text/plain": [
       "Yes    52323\n",
       "No     35663\n",
       "NM     12005\n",
       "Name: Payment_of_Min_Amount, dtype: int64"
      ]
     },
     "execution_count": 81,
     "metadata": {},
     "output_type": "execute_result"
    }
   ],
   "source": [
    "sl_data['Payment_of_Min_Amount'].value_counts()"
   ]
  },
  {
   "cell_type": "code",
   "execution_count": 82,
   "id": "38b969eb",
   "metadata": {},
   "outputs": [
    {
     "data": {
      "text/plain": [
       "Yes    52323\n",
       "No     47668\n",
       "Name: Payment_of_Min_Amount, dtype: int64"
      ]
     },
     "execution_count": 82,
     "metadata": {},
     "output_type": "execute_result"
    }
   ],
   "source": [
    "# Here NM can be replaced with No\n",
    "sl_data['Payment_of_Min_Amount'] = sl_data['Payment_of_Min_Amount'].str.replace(\"NM\",\"No\")\n",
    "sl_data['Payment_of_Min_Amount'].value_counts()"
   ]
  },
  {
   "cell_type": "markdown",
   "id": "cdbd8fdb",
   "metadata": {},
   "source": [
    "### Checking Occupation column"
   ]
  },
  {
   "cell_type": "code",
   "execution_count": 83,
   "id": "feea45e4",
   "metadata": {},
   "outputs": [
    {
     "data": {
      "text/plain": [
       "_______          7061\n",
       "Lawyer           6574\n",
       "Architect        6355\n",
       "Engineer         6349\n",
       "Scientist        6299\n",
       "Mechanic         6290\n",
       "Accountant       6271\n",
       "Developer        6234\n",
       "Media_Manager    6232\n",
       "Teacher          6215\n",
       "Entrepreneur     6174\n",
       "Doctor           6085\n",
       "Journalist       6083\n",
       "Manager          5973\n",
       "Musician         5911\n",
       "Writer           5885\n",
       "Name: Occupation, dtype: int64"
      ]
     },
     "execution_count": 83,
     "metadata": {},
     "output_type": "execute_result"
    }
   ],
   "source": [
    "sl_data['Occupation'].value_counts()"
   ]
  },
  {
   "cell_type": "code",
   "execution_count": 84,
   "id": "74e984f9",
   "metadata": {},
   "outputs": [
    {
     "data": {
      "text/plain": [
       "Unknown          7061\n",
       "Lawyer           6574\n",
       "Architect        6355\n",
       "Engineer         6349\n",
       "Scientist        6299\n",
       "Mechanic         6290\n",
       "Accountant       6271\n",
       "Developer        6234\n",
       "Media_Manager    6232\n",
       "Teacher          6215\n",
       "Entrepreneur     6174\n",
       "Doctor           6085\n",
       "Journalist       6083\n",
       "Manager          5973\n",
       "Musician         5911\n",
       "Writer           5885\n",
       "Name: Occupation, dtype: int64"
      ]
     },
     "execution_count": 84,
     "metadata": {},
     "output_type": "execute_result"
    }
   ],
   "source": [
    "# here replace \"_\" with Unknown\n",
    "sl_data['Occupation'] = np.where(sl_data['Occupation'].str[0] == \"_\",\"Unknown\",sl_data['Occupation'])\n",
    "sl_data['Occupation'].value_counts()"
   ]
  },
  {
   "cell_type": "markdown",
   "id": "c88e7dbe",
   "metadata": {},
   "source": [
    "### Checking Credit_Mix column"
   ]
  },
  {
   "cell_type": "code",
   "execution_count": 85,
   "id": "557fa659",
   "metadata": {},
   "outputs": [
    {
     "data": {
      "text/plain": [
       "Standard    36476\n",
       "Good        24334\n",
       "_           20193\n",
       "Bad         18988\n",
       "Name: Credit_Mix, dtype: int64"
      ]
     },
     "execution_count": 85,
     "metadata": {},
     "output_type": "execute_result"
    }
   ],
   "source": [
    "sl_data['Credit_Mix'].value_counts()"
   ]
  },
  {
   "cell_type": "code",
   "execution_count": 86,
   "id": "8d6d4839",
   "metadata": {},
   "outputs": [
    {
     "data": {
      "text/plain": [
       "Standard    36476\n",
       "Good        24334\n",
       "Unknown     20193\n",
       "Bad         18988\n",
       "Name: Credit_Mix, dtype: int64"
      ]
     },
     "execution_count": 86,
     "metadata": {},
     "output_type": "execute_result"
    }
   ],
   "source": [
    "# here replace \"_\" with Unknown\n",
    "sl_data['Credit_Mix'] = np.where(sl_data['Credit_Mix'].str[0] == \"_\",\"Unknown\",sl_data['Credit_Mix'])\n",
    "sl_data['Credit_Mix'].value_counts()"
   ]
  },
  {
   "cell_type": "markdown",
   "id": "c7b35669",
   "metadata": {},
   "source": [
    "### Checking Age column"
   ]
  },
  {
   "cell_type": "code",
   "execution_count": 88,
   "id": "c496f028",
   "metadata": {},
   "outputs": [
    {
     "data": {
      "text/plain": [
       "count     99991\n",
       "unique     1788\n",
       "top          38\n",
       "freq       2833\n",
       "Name: Age, dtype: object"
      ]
     },
     "execution_count": 88,
     "metadata": {},
     "output_type": "execute_result"
    }
   ],
   "source": [
    "sl_data['Age'].describe()"
   ]
  },
  {
   "cell_type": "code",
   "execution_count": 89,
   "id": "a200c7a9",
   "metadata": {},
   "outputs": [
    {
     "data": {
      "text/plain": [
       "count    99991.000000\n",
       "mean       110.656489\n",
       "std        686.275218\n",
       "min       -500.000000\n",
       "25%         24.000000\n",
       "50%         33.000000\n",
       "75%         42.000000\n",
       "max       8698.000000\n",
       "Name: Age, dtype: float64"
      ]
     },
     "execution_count": 89,
     "metadata": {},
     "output_type": "execute_result"
    }
   ],
   "source": [
    "# here we need to change the data type of Age column as it should be numeric\n",
    "sl_data['Age'] = sl_data['Age'].str.replace(\"_\",\"\")\n",
    "sl_data = sl_data.astype({'Age':'int32'})\n",
    "sl_data['Age'].describe()"
   ]
  },
  {
   "cell_type": "code",
   "execution_count": 90,
   "id": "b4b36484",
   "metadata": {},
   "outputs": [
    {
     "data": {
      "image/png": "[encoded data removed]",
      "text/plain": [
       "<Figure size 1000x200 with 1 Axes>"
      ]
     },
     "metadata": {},
     "output_type": "display_data"
    }
   ],
   "source": [
    "# Clearly outliers seems to be present as some invalid data is present\n",
    "#Checking for outliers\n",
    "plt.figure(figsize=(10,2))\n",
    "sns.boxplot(sl_data['Age'])\n",
    "plt.show()"
   ]
  },
  {
   "cell_type": "code",
   "execution_count": 91,
   "id": "4ba1aca8",
   "metadata": {},
   "outputs": [
    {
     "data": {
      "text/plain": [
       "count    99991.000000\n",
       "mean       110.656489\n",
       "std        686.275218\n",
       "min       -500.000000\n",
       "10%         19.000000\n",
       "25%         24.000000\n",
       "50%         33.000000\n",
       "75%         42.000000\n",
       "80%         44.000000\n",
       "85%         46.000000\n",
       "90%         50.000000\n",
       "95%         53.000000\n",
       "96%         54.000000\n",
       "97%         55.000000\n",
       "98%         56.000000\n",
       "99%       4112.700000\n",
       "max       8698.000000\n",
       "Name: Age, dtype: float64"
      ]
     },
     "execution_count": 91,
     "metadata": {},
     "output_type": "execute_result"
    }
   ],
   "source": [
    "# checking where we can cap the values\n",
    "sl_data['Age'].describe(percentiles=[0.1,0.25,0.50,0.75,0.80,0.85,0.90,0.95,0.96,0.97,0.98,0.99])"
   ]
  },
  {
   "cell_type": "code",
   "execution_count": 92,
   "id": "54507f85",
   "metadata": {},
   "outputs": [
    {
     "name": "stdout",
     "output_type": "stream",
     "text": [
      "14.0 56.0\n"
     ]
    }
   ],
   "source": [
    "percentile_3 = sl_data['Age'].quantile([0.02,0.98]).values\n",
    "Lower_limit_3 = percentile_3[0]\n",
    "Upper_limit_3 = percentile_3[1]\n",
    "print(Lower_limit_3,Upper_limit_3)"
   ]
  },
  {
   "cell_type": "code",
   "execution_count": 93,
   "id": "4d9d036c",
   "metadata": {},
   "outputs": [],
   "source": [
    "# Here the outliers are removed by capping technique\n",
    "sl_data['Age'] = np.where(sl_data['Age'] >= Upper_limit_3,Upper_limit_3,\n",
    "                                            np.where(sl_data['Age'] <= Lower_limit_3,Lower_limit_3,\n",
    "                                            sl_data['Age']))"
   ]
  },
  {
   "cell_type": "code",
   "execution_count": 94,
   "id": "3440718e",
   "metadata": {},
   "outputs": [
    {
     "data": {
      "image/png": "[encoded data removed]",
      "text/plain": [
       "<Figure size 1000x200 with 1 Axes>"
      ]
     },
     "metadata": {},
     "output_type": "display_data"
    }
   ],
   "source": [
    "#Checking for outliers again\n",
    "plt.figure(figsize=(10,2))\n",
    "sns.boxplot(sl_data['Age'])\n",
    "plt.show()"
   ]
  },
  {
   "cell_type": "code",
   "execution_count": 95,
   "id": "7f705231",
   "metadata": {},
   "outputs": [
    {
     "data": {
      "image/png": "[encoded data removed]",
      "text/plain": [
       "<Figure size 640x480 with 1 Axes>"
      ]
     },
     "metadata": {},
     "output_type": "display_data"
    }
   ],
   "source": [
    "sns.boxplot(y='Age',x='Credit_Score',data=sl_data)\n",
    "plt.show()"
   ]
  },
  {
   "cell_type": "markdown",
   "id": "908646fb",
   "metadata": {},
   "source": [
    "We can see that Younger generation has poor credit score then mature people has good credit score.\n",
    "We can see thatpeople above age 40 have good credit score."
   ]
  },
  {
   "cell_type": "markdown",
   "id": "32c563d3",
   "metadata": {},
   "source": [
    "### Checking Annual_Income column"
   ]
  },
  {
   "cell_type": "code",
   "execution_count": null,
   "id": "c4f25576",
   "metadata": {},
   "outputs": [],
   "source": [
    "sl_data['Annual_Income'].describe()"
   ]
  },
  {
   "cell_type": "code",
   "execution_count": null,
   "id": "a6adae5e",
   "metadata": {},
   "outputs": [],
   "source": [
    "# here we need to change the data type of Annual income column as it should be numeric\n",
    "sl_data['Annual_Income'] = sl_data['Annual_Income'].str.replace(\"_\",\"\")\n",
    "sl_data = sl_data.astype({'Annual_Income':'float32'})\n",
    "sl_data['Annual_Income'].describe()"
   ]
  },
  {
   "cell_type": "code",
   "execution_count": null,
   "id": "c4395d7f",
   "metadata": {},
   "outputs": [],
   "source": [
    "# Rounding the values upto 2 decimal places\n",
    "sl_data['Annual_Income']=sl_data['Annual_Income'].apply(lambda x:round(x,2))"
   ]
  },
  {
   "cell_type": "markdown",
   "id": "c2db6e5b",
   "metadata": {},
   "source": [
    "### Checking 'Interest rate' column"
   ]
  },
  {
   "cell_type": "code",
   "execution_count": null,
   "id": "e0c80798",
   "metadata": {},
   "outputs": [],
   "source": [
    "sl_data['Interest_Rate'].describe()"
   ]
  },
  {
   "cell_type": "code",
   "execution_count": null,
   "id": "38fec2e0",
   "metadata": {},
   "outputs": [],
   "source": [
    "# Clearly outliers seems to be present as some invalid data is present\n",
    "#Checking for outliers again\n",
    "plt.figure(figsize=(10,2))\n",
    "sns.boxplot(sl_data['Interest_Rate'])\n",
    "plt.show()"
   ]
  },
  {
   "cell_type": "code",
   "execution_count": null,
   "id": "95f29d97",
   "metadata": {},
   "outputs": [],
   "source": [
    "# checking where we can cap the values\n",
    "sl_data['Interest_Rate'].describe(percentiles=[0.1,0.25,0.50,0.75,0.80,0.85,0.90,0.95,0.96,0.97,0.98,0.99])"
   ]
  },
  {
   "cell_type": "code",
   "execution_count": null,
   "id": "eabbf480",
   "metadata": {},
   "outputs": [],
   "source": [
    "percentile_4 = sl_data['Interest_Rate'].quantile([0.03,0.97]).values\n",
    "Lower_limit_4 = percentile_4[0]\n",
    "Upper_limit_4 = percentile_4[1]\n",
    "print(Lower_limit_4,Upper_limit_4)"
   ]
  },
  {
   "cell_type": "code",
   "execution_count": null,
   "id": "98bde12f",
   "metadata": {},
   "outputs": [],
   "source": [
    "# Here the outliers are removed by capping technique\n",
    "sl_data['Interest_Rate'] = np.where(sl_data['Interest_Rate'] >= Upper_limit_4,Upper_limit_4,\n",
    "                                            np.where(sl_data['Interest_Rate'] <= Lower_limit_4,Lower_limit_4,\n",
    "                                            sl_data['Interest_Rate']))"
   ]
  },
  {
   "cell_type": "code",
   "execution_count": null,
   "id": "9c141912",
   "metadata": {},
   "outputs": [],
   "source": [
    "#Checking for outliers again\n",
    "plt.figure(figsize=(10,2))\n",
    "sns.boxplot(sl_data['Interest_Rate'])\n",
    "plt.show()"
   ]
  },
  {
   "cell_type": "code",
   "execution_count": null,
   "id": "3c227e0f",
   "metadata": {},
   "outputs": [],
   "source": [
    "pd.set_option(\"display.max_columns\", None)\n",
    "sl_data.head(10)"
   ]
  },
  {
   "cell_type": "code",
   "execution_count": null,
   "id": "653e7614",
   "metadata": {},
   "outputs": [],
   "source": [
    "# Rounding off values upto 2 decimal places\n",
    "clmns = ['Credit_Utilization_Ratio','Total_EMI_per_month','Amount_invested_monthly']\n",
    "sl_data[clmns]=sl_data[clmns].apply(lambda x:round(x,2))"
   ]
  },
  {
   "cell_type": "code",
   "execution_count": null,
   "id": "eeb53c33",
   "metadata": {},
   "outputs": [],
   "source": [
    "pd.set_option(\"display.max_columns\", None)\n",
    "sl_data.head(10)"
   ]
  },
  {
   "cell_type": "markdown",
   "id": "95c55fb5",
   "metadata": {},
   "source": [
    "### Checking 'Changed credit limit' column"
   ]
  },
  {
   "cell_type": "code",
   "execution_count": null,
   "id": "cfe7d89d",
   "metadata": {},
   "outputs": [],
   "source": [
    "sl_data['Changed_Credit_Limit'].value_counts()"
   ]
  },
  {
   "cell_type": "code",
   "execution_count": null,
   "id": "70495bff",
   "metadata": {},
   "outputs": [],
   "source": [
    "# here we need to change the data type of Changed_Credit_Limit column as it should be numeric\n",
    "sl_data['Changed_Credit_Limit'] = sl_data['Changed_Credit_Limit'].str.replace(\"_\",\"0\")\n",
    "sl_data = sl_data.astype({'Changed_Credit_Limit':'float32'})\n",
    "sl_data['Changed_Credit_Limit'].describe()"
   ]
  },
  {
   "cell_type": "code",
   "execution_count": null,
   "id": "473fecce",
   "metadata": {},
   "outputs": [],
   "source": [
    "#Checking for outliers\n",
    "plt.figure(figsize=(10,2))\n",
    "sns.boxplot(sl_data['Changed_Credit_Limit'])\n",
    "plt.show()"
   ]
  },
  {
   "cell_type": "code",
   "execution_count": null,
   "id": "bbaf0f73",
   "metadata": {},
   "outputs": [],
   "source": [
    "# checking where we can cap the values\n",
    "sl_data['Changed_Credit_Limit'].describe(percentiles=[0.1,0.25,0.50,0.75,0.80,0.85,0.90,0.95,0.96,0.97,0.98,0.99])"
   ]
  },
  {
   "cell_type": "code",
   "execution_count": null,
   "id": "631e87f9",
   "metadata": {},
   "outputs": [],
   "source": [
    "percentile_5 = sl_data['Changed_Credit_Limit'].quantile([0.01,0.99]).values\n",
    "Lower_limit_5 = percentile_5[0]\n",
    "Upper_limit_5 = percentile_5[1]\n",
    "print(Lower_limit_5,Upper_limit_5)"
   ]
  },
  {
   "cell_type": "code",
   "execution_count": null,
   "id": "f7f06eb6",
   "metadata": {},
   "outputs": [],
   "source": [
    "# Here the outliers are removed by capping technique\n",
    "sl_data['Changed_Credit_Limit'] = np.where(sl_data['Changed_Credit_Limit'] >= Upper_limit_5,Upper_limit_5,\n",
    "                                            np.where(sl_data['Changed_Credit_Limit'] <= Lower_limit_5,Lower_limit_5,\n",
    "                                            sl_data['Changed_Credit_Limit']))"
   ]
  },
  {
   "cell_type": "code",
   "execution_count": null,
   "id": "3aeba88e",
   "metadata": {},
   "outputs": [],
   "source": [
    "#Checking for outliers again\n",
    "plt.figure(figsize=(10,2))\n",
    "sns.boxplot(sl_data['Changed_Credit_Limit'])\n",
    "plt.show()"
   ]
  },
  {
   "cell_type": "markdown",
   "id": "d3720d62",
   "metadata": {},
   "source": [
    "### Checking 'Payment_Behaviour' column"
   ]
  },
  {
   "cell_type": "code",
   "execution_count": null,
   "id": "d6faaa87",
   "metadata": {},
   "outputs": [],
   "source": [
    "sl_data['Payment_Behaviour'].value_counts()"
   ]
  },
  {
   "cell_type": "code",
   "execution_count": null,
   "id": "4c0c0bc9",
   "metadata": {},
   "outputs": [],
   "source": [
    "# Lets check with the histogram plot\n",
    "plt.figure(figsize=(8,2))\n",
    "sns.histplot(data=sl_data,y='Payment_Behaviour')\n",
    "plt.show()"
   ]
  },
  {
   "cell_type": "code",
   "execution_count": null,
   "id": "fc08d192",
   "metadata": {},
   "outputs": [],
   "source": [
    "# here we need to impute Payment_Behaviour column with unknown catgory\n",
    "sl_data['Payment_Behaviour'] = sl_data['Payment_Behaviour'].str.replace(\"!@9#%8\",\"Unknown\")"
   ]
  },
  {
   "cell_type": "code",
   "execution_count": null,
   "id": "b0c008d7",
   "metadata": {},
   "outputs": [],
   "source": [
    "sl_data['Payment_Behaviour'].value_counts()"
   ]
  },
  {
   "cell_type": "markdown",
   "id": "4d3af78b",
   "metadata": {},
   "source": [
    "### Cecking 'Outstanding_Debt' column"
   ]
  },
  {
   "cell_type": "code",
   "execution_count": null,
   "id": "327307c1",
   "metadata": {},
   "outputs": [],
   "source": [
    "# as its data type is object where it should be numerical\n",
    "# Converting the column to numerical datatype"
   ]
  },
  {
   "cell_type": "code",
   "execution_count": null,
   "id": "960de0be",
   "metadata": {},
   "outputs": [],
   "source": [
    "# Since the data contains underscore \"_\" value which needs to be replaced\n",
    "sl_data['Outstanding_Debt'] = sl_data['Outstanding_Debt'].str.replace(\"_\",\"\")\n",
    "sl_data = sl_data.astype({'Outstanding_Debt':'float32'})\n",
    "sl_data['Outstanding_Debt'].info()"
   ]
  },
  {
   "cell_type": "code",
   "execution_count": null,
   "id": "81bc8448",
   "metadata": {},
   "outputs": [],
   "source": [
    "#Checking for outliers\n",
    "plt.figure(figsize=(10,2))\n",
    "sns.boxplot(sl_data['Outstanding_Debt'])\n",
    "plt.show()"
   ]
  },
  {
   "cell_type": "code",
   "execution_count": null,
   "id": "55183673",
   "metadata": {},
   "outputs": [],
   "source": [
    "# checking where we can cap the values\n",
    "sl_data['Outstanding_Debt'].describe(percentiles=[0.1,0.25,0.50,0.75,0.80,0.85,0.90,0.95,0.96,0.97,0.98,0.99])"
   ]
  },
  {
   "cell_type": "code",
   "execution_count": null,
   "id": "7be4dfb4",
   "metadata": {},
   "outputs": [],
   "source": [
    "percentile_6 = sl_data['Outstanding_Debt'].quantile([0.053,0.947]).values\n",
    "Lower_limit_6 = percentile_6[0]\n",
    "Upper_limit_6 = percentile_6[1]\n",
    "print(Lower_limit_6,Upper_limit_6)"
   ]
  },
  {
   "cell_type": "code",
   "execution_count": null,
   "id": "188b5a1f",
   "metadata": {},
   "outputs": [],
   "source": [
    "# Here the outliers are removed by capping technique\n",
    "sl_data['Outstanding_Debt'] = np.where(sl_data['Outstanding_Debt'] >= Upper_limit_6,Upper_limit_6,\n",
    "                                            np.where(sl_data['Outstanding_Debt'] <= Lower_limit_6,Lower_limit_6,\n",
    "                                            sl_data['Outstanding_Debt']))"
   ]
  },
  {
   "cell_type": "code",
   "execution_count": null,
   "id": "86f3eb5b",
   "metadata": {},
   "outputs": [],
   "source": [
    "#Checking for outliers again\n",
    "plt.figure(figsize=(10,2))\n",
    "sns.boxplot(sl_data['Outstanding_Debt'])\n",
    "plt.show()"
   ]
  },
  {
   "cell_type": "markdown",
   "id": "4949924e",
   "metadata": {},
   "source": [
    "### Cecking 'Num_of_Loan' column"
   ]
  },
  {
   "cell_type": "code",
   "execution_count": null,
   "id": "3a30adde",
   "metadata": {},
   "outputs": [],
   "source": [
    "sl_data['Num_of_Loan'].value_counts()"
   ]
  },
  {
   "cell_type": "code",
   "execution_count": null,
   "id": "94b893e9",
   "metadata": {},
   "outputs": [],
   "source": [
    "# Since the data contains underscore \"_\" value which needs to be replaced\n",
    "sl_data['Num_of_Loan'] = sl_data['Num_of_Loan'].str.replace(\"_\",\"\")\n",
    "sl_data = sl_data.astype({'Num_of_Loan':'float32'})\n",
    "sl_data['Num_of_Loan'].info()"
   ]
  },
  {
   "cell_type": "code",
   "execution_count": null,
   "id": "c7a4c0c1",
   "metadata": {},
   "outputs": [],
   "source": [
    "#Checking for outliers\n",
    "plt.figure(figsize=(10,2))\n",
    "sns.boxplot(sl_data['Num_of_Loan'])\n",
    "plt.show()"
   ]
  },
  {
   "cell_type": "code",
   "execution_count": null,
   "id": "d5a9fa79",
   "metadata": {},
   "outputs": [],
   "source": [
    "# checking where we can cap the values\n",
    "sl_data['Num_of_Loan'].describe(percentiles=[0.1,0.25,0.50,0.75,0.80,0.85,0.90,0.95,0.96,0.97,0.98,0.99])"
   ]
  },
  {
   "cell_type": "code",
   "execution_count": null,
   "id": "bafea887",
   "metadata": {},
   "outputs": [],
   "source": [
    "percentile_7 = sl_data['Num_of_Loan'].quantile([0.05,0.99]).values\n",
    "Lower_limit_7 = percentile_7[0]\n",
    "Upper_limit_7 = percentile_7[1]\n",
    "print(Lower_limit_7,Upper_limit_7)"
   ]
  },
  {
   "cell_type": "code",
   "execution_count": null,
   "id": "b0c670d0",
   "metadata": {},
   "outputs": [],
   "source": [
    "# Here the outliers are removed by capping technique\n",
    "sl_data['Num_of_Loan'] = np.where(sl_data['Num_of_Loan'] >= Upper_limit_7,Upper_limit_7,\n",
    "                                            np.where(sl_data['Num_of_Loan'] <= Lower_limit_7,Lower_limit_7,\n",
    "                                            sl_data['Num_of_Loan']))"
   ]
  },
  {
   "cell_type": "code",
   "execution_count": null,
   "id": "fde381f8",
   "metadata": {},
   "outputs": [],
   "source": [
    "# Checking for outliers again\n",
    "plt.figure(figsize=(10,2))\n",
    "sns.boxplot(sl_data['Num_of_Loan'])\n",
    "plt.show()"
   ]
  },
  {
   "cell_type": "markdown",
   "id": "479aa79e",
   "metadata": {},
   "source": [
    "### Checking 'Number of credit card' column"
   ]
  },
  {
   "cell_type": "code",
   "execution_count": null,
   "id": "8d29ca4d",
   "metadata": {},
   "outputs": [],
   "source": [
    "sl_data['Num_Credit_Card'].describe()"
   ]
  },
  {
   "cell_type": "code",
   "execution_count": null,
   "id": "6ac1019b",
   "metadata": {},
   "outputs": [],
   "source": [
    "# checking distribution of the values\n",
    "sl_data['Num_Credit_Card'].describe(percentiles=[0.1,0.25,0.50,0.75,0.80,0.85,0.90,0.95,0.96,0.97,0.98,0.99])"
   ]
  },
  {
   "cell_type": "code",
   "execution_count": null,
   "id": "4770f41c",
   "metadata": {},
   "outputs": [],
   "source": [
    "# Clearly there are outliers present and upto 97% its fine but after which it is distorting the data\n",
    "# Checking for outliers with boxplot\n",
    "plt.figure(figsize=(10,2))\n",
    "sns.boxplot(sl_data['Num_Credit_Card'])\n",
    "plt.show()"
   ]
  },
  {
   "cell_type": "code",
   "execution_count": null,
   "id": "841cda0d",
   "metadata": {},
   "outputs": [],
   "source": [
    "# Alotting Higher and lower limit for capping\n",
    "percentile_8 = sl_data['Num_Credit_Card'].quantile([0.03,0.97]).values\n",
    "Lower_limit_8 = percentile_8[0]\n",
    "Upper_limit_8 = percentile_8[1]\n",
    "print(Lower_limit_8,Upper_limit_8)"
   ]
  },
  {
   "cell_type": "code",
   "execution_count": null,
   "id": "78636587",
   "metadata": {},
   "outputs": [],
   "source": [
    "# Here the outliers are removed by capping technique\n",
    "sl_data['Num_Credit_Card'] = np.where(sl_data['Num_Credit_Card'] >= Upper_limit_8,Upper_limit_8,\n",
    "                                            np.where(sl_data['Num_Credit_Card'] <= Lower_limit_8,Lower_limit_8,\n",
    "                                            sl_data['Num_Credit_Card']))"
   ]
  },
  {
   "cell_type": "code",
   "execution_count": null,
   "id": "5f9927f4",
   "metadata": {},
   "outputs": [],
   "source": [
    "# Checking for outliers again\n",
    "plt.figure(figsize=(10,2))\n",
    "sns.boxplot(sl_data['Num_Credit_Card'])\n",
    "plt.show()"
   ]
  },
  {
   "cell_type": "markdown",
   "id": "f4b931f1",
   "metadata": {},
   "source": [
    "### Checking 'Num_bank_account' column"
   ]
  },
  {
   "cell_type": "code",
   "execution_count": null,
   "id": "f4168de1",
   "metadata": {},
   "outputs": [],
   "source": [
    "sl_data['Num_Bank_Accounts'].describe()"
   ]
  },
  {
   "cell_type": "code",
   "execution_count": null,
   "id": "e256bd4e",
   "metadata": {},
   "outputs": [],
   "source": [
    "# checking distribution of the values\n",
    "sl_data['Num_Bank_Accounts'].describe(percentiles=[0.1,0.25,0.50,0.75,0.80,0.85,0.90,0.95,0.96,0.97,0.98,0.99])"
   ]
  },
  {
   "cell_type": "code",
   "execution_count": null,
   "id": "4cf7dbf6",
   "metadata": {},
   "outputs": [],
   "source": [
    "# Clearly there are outliers present and upto 98% its fine but after which it is distorting the data\n",
    "# Checking for outliers with boxplot\n",
    "plt.figure(figsize=(10,2))\n",
    "sns.boxplot(sl_data['Num_Bank_Accounts'])\n",
    "plt.show()"
   ]
  },
  {
   "cell_type": "code",
   "execution_count": null,
   "id": "6ba3a213",
   "metadata": {},
   "outputs": [],
   "source": [
    "# Alotting Higher and lower limit for capping\n",
    "percentile_9 = sl_data['Num_Bank_Accounts'].quantile([0.02,0.98]).values\n",
    "Lower_limit_9 = percentile_9[0]\n",
    "Upper_limit_9 = percentile_9[1]\n",
    "print(Lower_limit_9,Upper_limit_9)"
   ]
  },
  {
   "cell_type": "code",
   "execution_count": null,
   "id": "82d8e50b",
   "metadata": {},
   "outputs": [],
   "source": [
    "# Here the outliers are removed by capping technique\n",
    "sl_data['Num_Bank_Accounts'] = np.where(sl_data['Num_Bank_Accounts'] >= Upper_limit_9,Upper_limit_9,\n",
    "                                            np.where(sl_data['Num_Bank_Accounts'] <= Lower_limit_9,Lower_limit_9,\n",
    "                                            sl_data['Num_Bank_Accounts']))"
   ]
  },
  {
   "cell_type": "code",
   "execution_count": null,
   "id": "8585743f",
   "metadata": {},
   "outputs": [],
   "source": [
    "# Checking for outliers again\n",
    "plt.figure(figsize=(10,2))\n",
    "sns.boxplot(sl_data['Num_Bank_Accounts'])\n",
    "plt.show()"
   ]
  },
  {
   "cell_type": "markdown",
   "id": "48be2cf9",
   "metadata": {},
   "source": [
    "## Checking'Delay_from_due_date' column"
   ]
  },
  {
   "cell_type": "code",
   "execution_count": null,
   "id": "d7e087d5",
   "metadata": {},
   "outputs": [],
   "source": [
    "sl_data['Delay_from_due_date'].describe()"
   ]
  },
  {
   "cell_type": "code",
   "execution_count": null,
   "id": "e4db670d",
   "metadata": {},
   "outputs": [],
   "source": [
    "# checking distribution of the values\n",
    "sl_data['Delay_from_due_date'].describe(percentiles=[0.1,0.25,0.50,0.75,0.80,0.85,0.90,0.95,0.96,0.97,0.98,0.99])"
   ]
  },
  {
   "cell_type": "code",
   "execution_count": null,
   "id": "f9fa0948",
   "metadata": {},
   "outputs": [],
   "source": [
    "# Checking for outliers with boxplot\n",
    "plt.figure(figsize=(10,2))\n",
    "sns.boxplot(sl_data['Delay_from_due_date'])\n",
    "plt.show()"
   ]
  },
  {
   "cell_type": "code",
   "execution_count": null,
   "id": "da1add64",
   "metadata": {},
   "outputs": [],
   "source": [
    "# Alotting Higher and lower limit for capping\n",
    "percentile_10 = sl_data['Delay_from_due_date'].quantile([0.05,0.95]).values\n",
    "Lower_limit_10 = percentile_10[0]\n",
    "Upper_limit_10 = percentile_10[1]\n",
    "print(Lower_limit_10,Upper_limit_10)"
   ]
  },
  {
   "cell_type": "code",
   "execution_count": null,
   "id": "0b2b7f36",
   "metadata": {},
   "outputs": [],
   "source": [
    "# Here the outliers are removed by capping technique\n",
    "sl_data['Delay_from_due_date'] = np.where(sl_data['Delay_from_due_date'] >= Upper_limit_10,Upper_limit_10,\n",
    "                                            np.where(sl_data['Delay_from_due_date'] <= Lower_limit_10,Lower_limit_10,\n",
    "                                            sl_data['Delay_from_due_date']))"
   ]
  },
  {
   "cell_type": "code",
   "execution_count": null,
   "id": "ecf14d1c",
   "metadata": {},
   "outputs": [],
   "source": [
    "# Checking for outliers again\n",
    "plt.figure(figsize=(10,2))\n",
    "sns.boxplot(sl_data['Delay_from_due_date'])\n",
    "plt.show()"
   ]
  },
  {
   "cell_type": "markdown",
   "id": "979743f9",
   "metadata": {},
   "source": [
    "### Checking 'Credit_utilization_ratio' column"
   ]
  },
  {
   "cell_type": "code",
   "execution_count": null,
   "id": "dd73680d",
   "metadata": {},
   "outputs": [],
   "source": [
    "sl_data['Credit_Utilization_Ratio'].describe()"
   ]
  },
  {
   "cell_type": "code",
   "execution_count": null,
   "id": "3162ce3d",
   "metadata": {},
   "outputs": [],
   "source": [
    "# checking distribution of the values\n",
    "sl_data['Credit_Utilization_Ratio'].describe(percentiles=[0.1,0.25,0.50,0.75,0.80,0.85,0.90,0.95,0.96,0.97,0.98,0.99])"
   ]
  },
  {
   "cell_type": "code",
   "execution_count": null,
   "id": "9657cadc",
   "metadata": {},
   "outputs": [],
   "source": [
    "# Checking for outliers with boxplot\n",
    "plt.figure(figsize=(10,2))\n",
    "sns.boxplot(sl_data['Credit_Utilization_Ratio'])\n",
    "plt.show()"
   ]
  },
  {
   "cell_type": "code",
   "execution_count": null,
   "id": "5456cd10",
   "metadata": {},
   "outputs": [],
   "source": [
    "# Alotting Higher and lower limit for capping\n",
    "percentile_11 = sl_data['Credit_Utilization_Ratio'].quantile([0.001,0.999]).values\n",
    "Lower_limit_11 = percentile_11[0]\n",
    "Upper_limit_11 = percentile_11[1]\n",
    "print(Lower_limit_11,Upper_limit_11)"
   ]
  },
  {
   "cell_type": "code",
   "execution_count": null,
   "id": "8eef76a9",
   "metadata": {},
   "outputs": [],
   "source": [
    "# Here the outliers are removed by capping technique\n",
    "sl_data['Credit_Utilization_Ratio'] = np.where(sl_data['Credit_Utilization_Ratio'] >= Upper_limit_11,Upper_limit_11,\n",
    "                                            np.where(sl_data['Credit_Utilization_Ratio'] <= Lower_limit_11,Lower_limit_11,\n",
    "                                            sl_data['Credit_Utilization_Ratio']))"
   ]
  },
  {
   "cell_type": "code",
   "execution_count": null,
   "id": "72637a53",
   "metadata": {},
   "outputs": [],
   "source": [
    "# Checking for outliers with boxplot\n",
    "plt.figure(figsize=(10,2))\n",
    "sns.boxplot(sl_data['Credit_Utilization_Ratio'])\n",
    "plt.show()"
   ]
  },
  {
   "cell_type": "markdown",
   "id": "87e160e8",
   "metadata": {},
   "source": [
    "## Checking 'Total_EMI_per_month' column for outliers"
   ]
  },
  {
   "cell_type": "code",
   "execution_count": null,
   "id": "af24311e",
   "metadata": {},
   "outputs": [],
   "source": [
    "# checking distribution of the values\n",
    "sl_data['Total_EMI_per_month'].describe(percentiles=[0.1,0.25,0.50,0.75,0.80,0.85,0.90,0.92,0.93,0.94,0.95,0.99])"
   ]
  },
  {
   "cell_type": "code",
   "execution_count": null,
   "id": "01d94002",
   "metadata": {},
   "outputs": [],
   "source": [
    "# Clearly there are outliers present and upto 93% its fine but after which it is distorting the data\n",
    "# Checking for outliers with boxplot\n",
    "plt.figure(figsize=(10,2))\n",
    "sns.boxplot(sl_data['Total_EMI_per_month'])\n",
    "plt.show()"
   ]
  },
  {
   "cell_type": "code",
   "execution_count": null,
   "id": "b5b51fd3",
   "metadata": {},
   "outputs": [],
   "source": [
    "# Alotting Higher and lower limit for capping\n",
    "percentile_12 = sl_data['Total_EMI_per_month'].quantile([0.07,0.93]).values\n",
    "Lower_limit_12 = percentile_12[0]\n",
    "Upper_limit_12 = percentile_12[1]\n",
    "print(Lower_limit_12,Upper_limit_12)"
   ]
  },
  {
   "cell_type": "code",
   "execution_count": null,
   "id": "67ad26a7",
   "metadata": {},
   "outputs": [],
   "source": [
    "# Here the outliers are removed by capping technique\n",
    "sl_data['Total_EMI_per_month'] = np.where(sl_data['Total_EMI_per_month'] >= Upper_limit_12,Upper_limit_12,\n",
    "                                            np.where(sl_data['Total_EMI_per_month'] <= Lower_limit_12,Lower_limit_12,\n",
    "                                            sl_data['Total_EMI_per_month']))"
   ]
  },
  {
   "cell_type": "code",
   "execution_count": null,
   "id": "89dafcef",
   "metadata": {},
   "outputs": [],
   "source": [
    "# Checking for outliers with boxplot\n",
    "plt.figure(figsize=(10,2))\n",
    "sns.boxplot(sl_data['Total_EMI_per_month'])\n",
    "plt.show()"
   ]
  },
  {
   "cell_type": "code",
   "execution_count": null,
   "id": "82f35629",
   "metadata": {},
   "outputs": [],
   "source": [
    "sl_data.info()"
   ]
  },
  {
   "cell_type": "code",
   "execution_count": null,
   "id": "8aef9206",
   "metadata": {},
   "outputs": [],
   "source": [
    "pd.set_option(\"display.max_columns\", None)\n",
    "sl_data.head(10)"
   ]
  },
  {
   "cell_type": "code",
   "execution_count": null,
   "id": "4bc30118",
   "metadata": {},
   "outputs": [],
   "source": [
    "# Rounding the values upto 2 decimal places\n",
    "sl_data['Outstanding_Debt']=sl_data['Outstanding_Debt'].apply(lambda x:round(x,2))"
   ]
  },
  {
   "cell_type": "code",
   "execution_count": null,
   "id": "96cd224a",
   "metadata": {},
   "outputs": [],
   "source": [
    "num_colms = ['Age','Annual_Income','Monthly_Inhand_Salary','Num_Bank_Accounts','Num_Credit_Card','Interest_Rate','Num_of_Loan','Delay_from_due_date','Changed_Credit_Limit','Outstanding_Debt','Credit_Utilization_Ratio','Total_EMI_per_month','Amount_invested_monthly','Monthly_Balance','Credit_duration']"
   ]
  },
  {
   "cell_type": "markdown",
   "id": "c60cb009",
   "metadata": {},
   "source": [
    "## Data Preparation"
   ]
  },
  {
   "cell_type": "code",
   "execution_count": null,
   "id": "b8a7c821",
   "metadata": {},
   "outputs": [],
   "source": [
    "# Converting 'Payment_of_Min_Amount' column with Yes and No to 1 and 0 resp.\n",
    "sl_data['Payment_of_Min_Amount'] = sl_data['Payment_of_Min_Amount'].map({'Yes': 1, \"No\": 0})\n",
    "sl_data['Payment_of_Min_Amount']"
   ]
  },
  {
   "cell_type": "code",
   "execution_count": null,
   "id": "0e1402b7",
   "metadata": {},
   "outputs": [],
   "source": [
    "sl_data['Payment_of_Min_Amount'].value_counts()"
   ]
  },
  {
   "cell_type": "markdown",
   "id": "b94bd3dc",
   "metadata": {},
   "source": [
    "## Creating Dummy variables for categorical columns"
   ]
  },
  {
   "cell_type": "code",
   "execution_count": null,
   "id": "6edb8c62",
   "metadata": {},
   "outputs": [],
   "source": [
    "# Creating a dummy variable for some of the categorical variables and dropping the first one.\n",
    "dummy1 = pd.get_dummies(sl_data[['Month', 'Occupation','Credit_Mix','Payment_Behaviour']], drop_first=True)\n",
    "\n",
    "# Adding the results to the master dataframe\n",
    "sl_data = pd.concat([sl_data, dummy1], axis=1)"
   ]
  },
  {
   "cell_type": "code",
   "execution_count": null,
   "id": "2ca5fd48",
   "metadata": {},
   "outputs": [],
   "source": [
    "# Dropping the original columns as we have a dummy features for them\n",
    "cat_cols = ['Month', 'Occupation','Credit_Mix','Payment_Behaviour']\n",
    "sl_data.drop(cat_cols,axis=1,inplace=True)"
   ]
  },
  {
   "cell_type": "code",
   "execution_count": null,
   "id": "76c5ad55",
   "metadata": {},
   "outputs": [],
   "source": [
    "sl_data.info()"
   ]
  },
  {
   "cell_type": "markdown",
   "id": "98f35edd",
   "metadata": {},
   "source": [
    "## Train - Test split"
   ]
  },
  {
   "cell_type": "code",
   "execution_count": null,
   "id": "07db20e5",
   "metadata": {},
   "outputs": [],
   "source": [
    "from sklearn.model_selection import train_test_split"
   ]
  },
  {
   "cell_type": "code",
   "execution_count": null,
   "id": "68493eb4",
   "metadata": {},
   "outputs": [],
   "source": [
    "# Putting response variable to y\n",
    "y = sl_data['Credit_Score']\n",
    "\n",
    "# Putting feature variable to X\n",
    "X = sl_data.drop('Credit_Score', axis=1)"
   ]
  },
  {
   "cell_type": "code",
   "execution_count": null,
   "id": "5270d146",
   "metadata": {},
   "outputs": [],
   "source": [
    "# Splitting the data into train and test\n",
    "# X_train, y_train = train_test_split(X, y, train_size=0.7, random_state=100)"
   ]
  },
  {
   "cell_type": "markdown",
   "id": "417dc026",
   "metadata": {},
   "source": [
    "## Feature Scaling"
   ]
  },
  {
   "cell_type": "code",
   "execution_count": null,
   "id": "b4946921",
   "metadata": {},
   "outputs": [],
   "source": [
    "from sklearn.preprocessing import StandardScaler"
   ]
  },
  {
   "cell_type": "code",
   "execution_count": null,
   "id": "1974f597",
   "metadata": {},
   "outputs": [],
   "source": [
    "scaler = StandardScaler()\n",
    "\n",
    "X[num_colms] = scaler.fit_transform(X[num_colms])\n",
    "\n",
    "X.describe()"
   ]
  },
  {
   "cell_type": "markdown",
   "id": "383a1369",
   "metadata": {},
   "source": [
    "## Model Building"
   ]
  },
  {
   "cell_type": "code",
   "execution_count": null,
   "id": "e47cdcea",
   "metadata": {},
   "outputs": [],
   "source": [
    "import statsmodels.api as sm\n",
    "from sklearn.linear_model import LogisticRegression"
   ]
  },
  {
   "cell_type": "markdown",
   "id": "8f550dd5",
   "metadata": {},
   "source": [
    "### Logistic regression model"
   ]
  },
  {
   "cell_type": "code",
   "execution_count": null,
   "id": "24d6199d",
   "metadata": {},
   "outputs": [],
   "source": [
    "logreg = LogisticRegression()"
   ]
  },
  {
   "cell_type": "code",
   "execution_count": null,
   "id": "7dee97a6",
   "metadata": {},
   "outputs": [],
   "source": [
    "model1 = LogisticRegression(random_state=0, multi_class='multinomial', penalty='none', solver='newton-cg').fit(X, y)\n",
    "# preds = model1.predict(X_test)"
   ]
  },
  {
   "cell_type": "code",
   "execution_count": null,
   "id": "e26584cc",
   "metadata": {},
   "outputs": [],
   "source": [
    "params = model1.get_params()\n",
    "print(params)"
   ]
  },
  {
   "cell_type": "code",
   "execution_count": null,
   "id": "b52d306b",
   "metadata": {},
   "outputs": [],
   "source": [
    "#Print model parameters\n",
    "print('Intercept: \\n', model1.intercept_)\n",
    "print('Coefficients: \\n', model1.coef_)"
   ]
  },
  {
   "cell_type": "code",
   "execution_count": null,
   "id": "9e513e7c",
   "metadata": {},
   "outputs": [],
   "source": [
    "#Use statsmodels to assess variables\n",
    "\n",
    "logit_model=sm.MNLogit(y,sm.add_constant(X))\n",
    "logit_model\n",
    "result=logit_model.fit()\n",
    "stats1=result.summary()\n",
    "stats2=result.summary2()\n",
    "print(stats1)\n",
    "print(stats2)"
   ]
  },
  {
   "cell_type": "markdown",
   "id": "010bb9cb",
   "metadata": {},
   "source": [
    "## Feature selection using RFE"
   ]
  },
  {
   "cell_type": "code",
   "execution_count": null,
   "id": "b1eae9bd",
   "metadata": {},
   "outputs": [],
   "source": [
    "from sklearn.feature_selection import RFE\n",
    "rfe = RFE(logreg,n_features_to_select=15)             # running RFE with 15 variables as output\n",
    "rfe = rfe.fit(X, y)"
   ]
  },
  {
   "cell_type": "code",
   "execution_count": null,
   "id": "1d3b3849",
   "metadata": {},
   "outputs": [],
   "source": [
    "rfe.support_"
   ]
  },
  {
   "cell_type": "code",
   "execution_count": null,
   "id": "c8e792d6",
   "metadata": {},
   "outputs": [],
   "source": [
    "list(zip(X.columns, rfe.support_, rfe.ranking_))"
   ]
  },
  {
   "cell_type": "code",
   "execution_count": null,
   "id": "d9f07002",
   "metadata": {},
   "outputs": [],
   "source": [
    "col = X.columns[rfe.support_]\n",
    "col"
   ]
  },
  {
   "cell_type": "code",
   "execution_count": null,
   "id": "ef925bcb",
   "metadata": {},
   "outputs": [],
   "source": [
    "# Assessing the models with statsmodels\n",
    "logit_model=sm.MNLogit(y,sm.add_constant(X[col]))\n",
    "logit_model\n",
    "result=logit_model.fit()\n",
    "stats1=result.summary()\n",
    "stats2=result.summary2()\n",
    "print(stats1)\n",
    "print(stats2)"
   ]
  },
  {
   "cell_type": "markdown",
   "id": "5587c8d1",
   "metadata": {},
   "source": [
    "## VIF calculation"
   ]
  },
  {
   "cell_type": "code",
   "execution_count": null,
   "id": "9cf29faa",
   "metadata": {},
   "outputs": [],
   "source": [
    "from statsmodels.stats.outliers_influence import variance_inflation_factor"
   ]
  },
  {
   "cell_type": "code",
   "execution_count": null,
   "id": "05c61a23",
   "metadata": {},
   "outputs": [],
   "source": [
    "# Create a dataframe that will contain the names of all the feature variables and their respective VIFs\n",
    "vif = pd.DataFrame()\n",
    "vif['Features'] = X[col].columns\n",
    "vif['VIF'] = [variance_inflation_factor(X[col].values, i) for i in range(X[col].shape[1])]\n",
    "vif['VIF'] = round(vif['VIF'], 2)\n",
    "vif = vif.sort_values(by = \"VIF\", ascending = False)\n",
    "vif"
   ]
  },
  {
   "cell_type": "code",
   "execution_count": null,
   "id": "98b52a81",
   "metadata": {},
   "outputs": [],
   "source": [
    "# Since the P value for 'Credit_Mix_Good' is higher then the acceptable range we can drop it\n",
    "col = col.drop('Credit_Mix_Good',1)"
   ]
  },
  {
   "cell_type": "code",
   "execution_count": null,
   "id": "bb6ab220",
   "metadata": {},
   "outputs": [],
   "source": [
    "# Assessing the models with statsmodels\n",
    "X_sm = sm.add_constant(X[col])\n",
    "logit_model=sm.MNLogit(y,X_sm)\n",
    "logit_model\n",
    "result=logit_model.fit()\n",
    "stats1=result.summary()\n",
    "stats2=result.summary2()\n",
    "print(stats1)\n",
    "print(stats2)"
   ]
  },
  {
   "cell_type": "code",
   "execution_count": null,
   "id": "6358e2d5",
   "metadata": {},
   "outputs": [],
   "source": [
    "# Create a dataframe that will contain the names of all the feature variables and their respective VIFs\n",
    "vif = pd.DataFrame()\n",
    "vif['Features'] = X[col].columns\n",
    "vif['VIF'] = [variance_inflation_factor(X[col].values, i) for i in range(X[col].shape[1])]\n",
    "vif['VIF'] = round(vif['VIF'], 2)\n",
    "vif = vif.sort_values(by = \"VIF\", ascending = False)\n",
    "vif"
   ]
  },
  {
   "cell_type": "code",
   "execution_count": null,
   "id": "0d3d1a65",
   "metadata": {},
   "outputs": [],
   "source": [
    "# Getting the predicted values on the train set\n",
    "y_pred = result.predict(X_sm)\n",
    "y_pred[:10]"
   ]
  },
  {
   "cell_type": "code",
   "execution_count": null,
   "id": "62ac32c2",
   "metadata": {},
   "outputs": [],
   "source": [
    "y_pred = y_pred.values.reshape(-1)\n",
    "y_pred[:10]"
   ]
  },
  {
   "cell_type": "code",
   "execution_count": null,
   "id": "1d72d344",
   "metadata": {},
   "outputs": [],
   "source": [
    "y = y.values.reshape(-1)"
   ]
  },
  {
   "cell_type": "code",
   "execution_count": null,
   "id": "1556c75c",
   "metadata": {},
   "outputs": [],
   "source": [
    "# y_series = pd.DataFrame(y,columns=['Credit_Score'])\n",
    "# y_series"
   ]
  },
  {
   "cell_type": "code",
   "execution_count": null,
   "id": "75483fbd",
   "metadata": {},
   "outputs": [],
   "source": [
    "# dummy2 = pd.get_dummies(y_series['Credit_Score'], drop_first=True)"
   ]
  },
  {
   "cell_type": "code",
   "execution_count": null,
   "id": "de955324",
   "metadata": {},
   "outputs": [],
   "source": [
    "# Adding the results to the master dataframe\n",
    "# y_series = pd.concat([y_series, dummy2], axis=1)\n",
    "\n",
    "# Dropping the original columns as we have a dummy features for them\n",
    "# y_series.drop(columns='Credit_Score',axis=1,inplace=True)"
   ]
  },
  {
   "cell_type": "code",
   "execution_count": null,
   "id": "5b8da6a7",
   "metadata": {},
   "outputs": [],
   "source": [
    "# Creating a Dataframe with actual Converted flag and predicted probabilities.\n",
    "y_pred_final = pd.DataFrame({'Credit_Score':y.values, 'Converted_Prob':y_pred})\n",
    "y_pred_final.head()"
   ]
  },
  {
   "cell_type": "markdown",
   "id": "6c82c6c2",
   "metadata": {},
   "source": [
    "## Coclusion:"
   ]
  },
  {
   "cell_type": "code",
   "execution_count": null,
   "id": "6e0facaf",
   "metadata": {},
   "outputs": [],
   "source": []
  }
 ],
 "metadata": {
  "kernelspec": {
   "display_name": "Python 3 (ipykernel)",
   "language": "python",
   "name": "python3"
  },
  "language_info": {
   "codemirror_mode": {
    "name": "ipython",
    "version": 3
   },
   "file_extension": ".py",
   "mimetype": "text/x-python",
   "name": "python",
   "nbconvert_exporter": "python",
   "pygments_lexer": "ipython3",
   "version": "3.9.13"
  }
 },
 "nbformat": 4,
 "nbformat_minor": 5
}
